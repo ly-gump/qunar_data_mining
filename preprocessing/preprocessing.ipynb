{
 "cells": [
  {
   "cell_type": "code",
   "execution_count": 1,
   "metadata": {},
   "outputs": [
    {
     "data": {
      "text/plain": [
       "\"\\nraw_note = pd.read_csv('./route_note.csv')#读取所有游记的具体内容\\nraw_note = raw_note.rename(columns={'link':'链接'})#重命名'link'列为'链接'列方便做join连接\\n\\nraw_basic_shanghai = pd.read_csv('./qunar_data.csv')#读取上海地区的数据\\nraw_basic_nanjing = pd.read_csv('./qunar_data_nanjing.csv')#读取南京地区的数据\\nraw_basic_hangzhou = pd.read_csv('./qunar_data_hangzhou.csv')#读取杭州地区的数据\\n\\n#增加area列加以区分\\nraw_basic_shanghai['area'] = 'shanghai'\\nraw_basic_nanjing['area'] = 'nanjing'\\nraw_basic_hangzhou['area'] = 'hangzhou'\\n\\nraw_basic = pd.concat([raw_basic_shanghai,raw_basic_hangzhou,raw_basic_nanjing])#将数据整合\\n\\n#merged_data = pd.read_csv('./merged_data.csv',encoding='utf-8')\\nmerged_data = pd.merge(raw_basic,raw_note,on=['链接'])\\n\\nmerged_data['content_count'] = merged_data['note_text'].str.len()#原始文本长度\\n\""
      ]
     },
     "execution_count": 1,
     "metadata": {},
     "output_type": "execute_result"
    }
   ],
   "source": [
    "import pandas as pd\n",
    "import numpy as np\n",
    "import matplotlib.pyplot as plt\n",
    "import seaborn as sns\n",
    "import re\n",
    "\n",
    "'''\n",
    "raw_note = pd.read_csv('./route_note.csv')#读取所有游记的具体内容\n",
    "raw_note = raw_note.rename(columns={'link':'链接'})#重命名'link'列为'链接'列方便做join连接\n",
    "\n",
    "raw_basic_shanghai = pd.read_csv('./qunar_data.csv')#读取上海地区的数据\n",
    "raw_basic_nanjing = pd.read_csv('./qunar_data_nanjing.csv')#读取南京地区的数据\n",
    "raw_basic_hangzhou = pd.read_csv('./qunar_data_hangzhou.csv')#读取杭州地区的数据\n",
    "\n",
    "#增加area列加以区分\n",
    "raw_basic_shanghai['area'] = 'shanghai'\n",
    "raw_basic_nanjing['area'] = 'nanjing'\n",
    "raw_basic_hangzhou['area'] = 'hangzhou'\n",
    "\n",
    "raw_basic = pd.concat([raw_basic_shanghai,raw_basic_hangzhou,raw_basic_nanjing])#将数据整合\n",
    "\n",
    "#merged_data = pd.read_csv('./merged_data.csv',encoding='utf-8')\n",
    "merged_data = pd.merge(raw_basic,raw_note,on=['链接'])\n",
    "\n",
    "merged_data['content_count'] = merged_data['note_text'].str.len()#原始文本长度\n",
    "'''"
   ]
  },
  {
   "cell_type": "code",
   "execution_count": 2,
   "metadata": {},
   "outputs": [],
   "source": [
    "merged_data = pd.read_csv(\"qunar_data_merged.csv\")  # 读取数据"
   ]
  },
  {
   "cell_type": "code",
   "execution_count": 166,
   "metadata": {},
   "outputs": [],
   "source": [
    "merged_data=data_merged.dropna()  # 滤除缺失值"
   ]
  },
  {
   "cell_type": "code",
   "execution_count": 235,
   "metadata": {},
   "outputs": [
    {
     "data": {
      "text/html": [
       "<div>\n",
       "<style scoped>\n",
       "    .dataframe tbody tr th:only-of-type {\n",
       "        vertical-align: middle;\n",
       "    }\n",
       "\n",
       "    .dataframe tbody tr th {\n",
       "        vertical-align: top;\n",
       "    }\n",
       "\n",
       "    .dataframe thead th {\n",
       "        text-align: right;\n",
       "    }\n",
       "</style>\n",
       "<table border=\"1\" class=\"dataframe\">\n",
       "  <thead>\n",
       "    <tr style=\"text-align: right;\">\n",
       "      <th></th>\n",
       "      <th>Unnamed: 0</th>\n",
       "      <th>标题</th>\n",
       "      <th>链接</th>\n",
       "      <th>作者</th>\n",
       "      <th>出发日期</th>\n",
       "      <th>天数</th>\n",
       "      <th>照片数</th>\n",
       "      <th>人数</th>\n",
       "      <th>玩法</th>\n",
       "      <th>费用</th>\n",
       "      <th>阅读数</th>\n",
       "      <th>点赞数</th>\n",
       "      <th>评论数</th>\n",
       "      <th>地点</th>\n",
       "    </tr>\n",
       "  </thead>\n",
       "  <tbody>\n",
       "    <tr>\n",
       "      <th>0</th>\n",
       "      <td>0</td>\n",
       "      <td>2016年厦门最新旅游攻略</td>\n",
       "      <td>https://travel.qunar.com/youji/6192339</td>\n",
       "      <td>大秉儿</td>\n",
       "      <td>2016-01-18 出发</td>\n",
       "      <td>共3天</td>\n",
       "      <td>58张照片</td>\n",
       "      <td>独自一人</td>\n",
       "      <td>环游 购物 美食 海滨海岛</td>\n",
       "      <td>人均2500元</td>\n",
       "      <td>76.3万</td>\n",
       "      <td>4232</td>\n",
       "      <td>248</td>\n",
       "      <td>厦门</td>\n",
       "    </tr>\n",
       "    <tr>\n",
       "      <th>1</th>\n",
       "      <td>1</td>\n",
       "      <td>和我爱的人，在我爱的城——厦门亲子游【厦门本地人的干货攻略】</td>\n",
       "      <td>https://travel.qunar.com/youji/7586903</td>\n",
       "      <td>hello雯子</td>\n",
       "      <td>2019-03-25 出发</td>\n",
       "      <td>共5天</td>\n",
       "      <td>460张照片</td>\n",
       "      <td>亲子</td>\n",
       "      <td>深度游 环游 购物 美食 暑假 短途周末 夏季 摄影 探险</td>\n",
       "      <td>NaN</td>\n",
       "      <td>1.3万</td>\n",
       "      <td>33</td>\n",
       "      <td>1</td>\n",
       "      <td>厦门</td>\n",
       "    </tr>\n",
       "    <tr>\n",
       "      <th>2</th>\n",
       "      <td>2</td>\n",
       "      <td>在厦门体验慢生活</td>\n",
       "      <td>https://travel.qunar.com/youji/5686412</td>\n",
       "      <td>花落心间</td>\n",
       "      <td>2015-07-14 出发</td>\n",
       "      <td>共4天</td>\n",
       "      <td>180张照片</td>\n",
       "      <td>三五好友</td>\n",
       "      <td>环游 美食</td>\n",
       "      <td>人均3500元</td>\n",
       "      <td>46.1万</td>\n",
       "      <td>3300</td>\n",
       "      <td>178</td>\n",
       "      <td>厦门</td>\n",
       "    </tr>\n",
       "    <tr>\n",
       "      <th>3</th>\n",
       "      <td>3</td>\n",
       "      <td>【清新福建】东南最美海岛城市，一步之间皆是美景</td>\n",
       "      <td>https://travel.qunar.com/youji/7527889</td>\n",
       "      <td>山野幽居</td>\n",
       "      <td>2019-09-12 出发</td>\n",
       "      <td>共3天</td>\n",
       "      <td>223张照片</td>\n",
       "      <td>三五好友</td>\n",
       "      <td>深度游 美食 海滨海岛 中秋节 摄影</td>\n",
       "      <td>人均3000元</td>\n",
       "      <td>9007</td>\n",
       "      <td>14</td>\n",
       "      <td>4</td>\n",
       "      <td>厦门</td>\n",
       "    </tr>\n",
       "    <tr>\n",
       "      <th>4</th>\n",
       "      <td>4</td>\n",
       "      <td>“捣”“蛋”的厦囧愿望清单完成记</td>\n",
       "      <td>https://travel.qunar.com/youji/5891724</td>\n",
       "      <td>qunar用户</td>\n",
       "      <td>2014-01-26 出发</td>\n",
       "      <td>共5天</td>\n",
       "      <td>414张照片</td>\n",
       "      <td>情侣</td>\n",
       "      <td>环游 美食 骑行</td>\n",
       "      <td>人均2395元</td>\n",
       "      <td>15.4万</td>\n",
       "      <td>997</td>\n",
       "      <td>100</td>\n",
       "      <td>厦门</td>\n",
       "    </tr>\n",
       "  </tbody>\n",
       "</table>\n",
       "</div>"
      ],
      "text/plain": [
       "   Unnamed: 0                              标题  \\\n",
       "0           0                   2016年厦门最新旅游攻略   \n",
       "1           1  和我爱的人，在我爱的城——厦门亲子游【厦门本地人的干货攻略】   \n",
       "2           2                        在厦门体验慢生活   \n",
       "3           3         【清新福建】东南最美海岛城市，一步之间皆是美景   \n",
       "4           4                “捣”“蛋”的厦囧愿望清单完成记   \n",
       "\n",
       "                                       链接       作者           出发日期   天数  \\\n",
       "0  https://travel.qunar.com/youji/6192339      大秉儿  2016-01-18 出发  共3天   \n",
       "1  https://travel.qunar.com/youji/7586903  hello雯子  2019-03-25 出发  共5天   \n",
       "2  https://travel.qunar.com/youji/5686412     花落心间  2015-07-14 出发  共4天   \n",
       "3  https://travel.qunar.com/youji/7527889     山野幽居  2019-09-12 出发  共3天   \n",
       "4  https://travel.qunar.com/youji/5891724  qunar用户  2014-01-26 出发  共5天   \n",
       "\n",
       "      照片数    人数                             玩法       费用    阅读数   点赞数  评论数  地点  \n",
       "0   58张照片  独自一人                  环游 购物 美食 海滨海岛  人均2500元  76.3万  4232  248  厦门  \n",
       "1  460张照片    亲子  深度游 环游 购物 美食 暑假 短途周末 夏季 摄影 探险      NaN   1.3万    33    1  厦门  \n",
       "2  180张照片  三五好友                          环游 美食  人均3500元  46.1万  3300  178  厦门  \n",
       "3  223张照片  三五好友             深度游 美食 海滨海岛 中秋节 摄影  人均3000元   9007    14    4  厦门  \n",
       "4  414张照片    情侣                       环游 美食 骑行  人均2395元  15.4万   997  100  厦门  "
      ]
     },
     "execution_count": 235,
     "metadata": {},
     "output_type": "execute_result"
    }
   ],
   "source": [
    "merged_data.head()"
   ]
  },
  {
   "cell_type": "code",
   "execution_count": 168,
   "metadata": {},
   "outputs": [
    {
     "data": {
      "text/plain": [
       "15637"
      ]
     },
     "execution_count": 168,
     "metadata": {},
     "output_type": "execute_result"
    }
   ],
   "source": [
    "32036-16399"
   ]
  },
  {
   "cell_type": "code",
   "execution_count": 94,
   "metadata": {},
   "outputs": [
    {
     "data": {
      "text/plain": [
       "3831"
      ]
     },
     "execution_count": 94,
     "metadata": {},
     "output_type": "execute_result"
    }
   ],
   "source": [
    "sum(pd.to_numeric(merged_data[\"点赞数\"])>20)"
   ]
  },
  {
   "cell_type": "code",
   "execution_count": 202,
   "metadata": {},
   "outputs": [],
   "source": [
    "def preprocess_num_read(str_readnum):\n",
    "    '''\n",
    "        处理'阅读数'列，\n",
    "        若该样本含有“万”字，则转化成*10000的实际数值；\n",
    "        若该样本为空，则转化成0；\n",
    "        若该样本为具体数字，则转为int值。\n",
    "    '''\n",
    "    if str_readnum.find('万') != -1:\n",
    "        str_readnum = str_readnum.replace('万','')\n",
    "        str_readnum = float(str_readnum) * 1e4\n",
    "    elif str_readnum == '' or str_readnum == np.NaN:\n",
    "        str_readnum = 0\n",
    "    else:\n",
    "        str_readnum = int(str_readnum)\n",
    "    return str_readnum\n",
    "\n",
    "def preprocess_transfer_season(month):\n",
    "    '''\n",
    "        输入int型月份，输出对应季节，1为春2为夏3为秋4为冬\n",
    "    '''\n",
    "    if month in [3,4,5]:\n",
    "        return 1\n",
    "    elif month in [6,7,8]:\n",
    "        return 2\n",
    "    elif month in [9,10,11]:\n",
    "        return 3\n",
    "    else:\n",
    "        return 4"
   ]
  },
  {
   "cell_type": "code",
   "execution_count": 203,
   "metadata": {},
   "outputs": [],
   "source": [
    "#阅读数处理\n",
    "merged_data['read_num_transformed'] = merged_data['阅读数'].apply(preprocess_num_read)\n",
    "\n",
    "#费用处理\n",
    "merged_data['per_cost'] = merged_data['费用'].str.replace('人均','')\n",
    "merged_data['per_cost'] = merged_data['per_cost'].str.replace('元','')\n",
    "merged_data['per_cost'] = merged_data['per_cost'].fillna(-1)\n",
    "\n",
    "#天数\n",
    "merged_data['travel_days'] = merged_data['天数'].str.replace('共','')\n",
    "merged_data['travel_days'] = merged_data['travel_days'].str.replace('天','')\n",
    "merged_data['travel_days'] = merged_data['travel_days'].fillna(-1)\n",
    "\n",
    "#照片数\n",
    "merged_data['photo_num'] = merged_data['照片数'].str.replace('张照片','')\n",
    "merged_data['photo_num'] = merged_data['photo_num'].str.replace('没有照片','0')\n",
    "merged_data['photo_num'] = merged_data['photo_num'].fillna(-1)\n",
    "\n",
    "#玩法\n",
    "merged_data['玩法_list'] = merged_data['玩法'].str.split('\\xa0')\n",
    "notna_row = merged_data['玩法_list'].notna()#非空的行\n",
    "use_row = merged_data['玩法_list'][notna_row]\n",
    "playmode_list = use_row.tolist()\n",
    "playmode_list = set(sum(playmode_list,[]))#展开成一个列表并去重\n",
    "playmode_list = list(playmode_list)\n",
    "playmode_list.sort()#排序\n",
    "#生成新的列\n",
    "for each_col in playmode_list:\n",
    "    merged_data[each_col] = merged_data['玩法_list'].apply(lambda x: 0 if (type(x)==float or (each_col not in x)) else 1)#nan的可以用type==float来确定\n",
    "merged_data = merged_data.rename(columns=dict(zip(playmode_list,['playmode_'+each for each in playmode_list])))#特征名重命名，添加前缀person_num\n",
    "\n",
    "#人数\n",
    "person_num_list = set(merged_data['人数'].tolist())\n",
    "person_num_list.remove(np.nan)#空值不做列\n",
    "person_num_list = list(person_num_list)\n",
    "person_num_list.sort()#排序\n",
    "#new_person_num_list = ['person_num_'+each for each in person_num_list]#特征名加前缀，方便识别\n",
    "#生成新的列\n",
    "for each_col in person_num_list:\n",
    "    merged_data[each_col] = merged_data['人数'].apply(lambda x: 1 if x == each_col else 0)\n",
    "merged_data = merged_data.rename(columns=dict(zip(person_num_list,['person_num_'+each for each in person_num_list])))#特征名重命名，添加前缀person_num\n",
    "\n",
    "#出发日期\n",
    "merged_data['date'] = merged_data['出发日期'].str.replace(' 出发','')\n",
    "merged_data['date'] = pd.to_datetime(merged_data['date'], format = '%Y-%m-%d')#日期格式转化\n",
    "merged_data['dayofweek'] = merged_data['date'].dt.weekday#周一二三四五六日分别对应0-6\n",
    "merged_data['is_weekend'] = merged_data['dayofweek'].apply(lambda x: 1 if x in [5,6] else 0)\n",
    "merged_data['month'] = merged_data['date'].dt.month\n",
    "merged_data['season'] = merged_data['month'].apply(preprocess_transfer_season)#加入季节，1春2夏3秋4冬"
   ]
  },
  {
   "cell_type": "code",
   "execution_count": 204,
   "metadata": {},
   "outputs": [],
   "source": [
    "merged_data.to_csv(\"qunar_merged_preprocess1.csv\",index=False)"
   ]
  },
  {
   "cell_type": "code",
   "execution_count": 3,
   "metadata": {},
   "outputs": [],
   "source": [
    "merged_data=pd.read_csv(\"qunar_merged_preprocess1.csv\")"
   ]
  },
  {
   "cell_type": "code",
   "execution_count": 83,
   "metadata": {},
   "outputs": [],
   "source": [
    "merged_data=merged_data.dropna()  # 滤除缺失值"
   ]
  },
  {
   "cell_type": "code",
   "execution_count": 84,
   "metadata": {},
   "outputs": [
    {
     "data": {
      "text/plain": [
       "2033"
      ]
     },
     "execution_count": 84,
     "metadata": {},
     "output_type": "execute_result"
    }
   ],
   "source": [
    "sum((pd.to_numeric(merged_data[\"travel_days\"])>=10)|(pd.to_numeric(merged_data[\"per_cost\"])<100))"
   ]
  },
  {
   "cell_type": "code",
   "execution_count": 70,
   "metadata": {},
   "outputs": [
    {
     "data": {
      "text/plain": [
       "9.0"
      ]
     },
     "execution_count": 70,
     "metadata": {},
     "output_type": "execute_result"
    }
   ],
   "source": [
    "pd.to_numeric(merged_data.travel_days).quantile(0.9)"
   ]
  },
  {
   "cell_type": "code",
   "execution_count": 4,
   "metadata": {},
   "outputs": [],
   "source": [
    "merged_data=merged_data.dropna()  # 滤除缺失值\n",
    "merged_data=merged_data[pd.to_numeric(merged_data[\"travel_days\"])<10]  # 滤除游玩天数多于10天的数据\n",
    "merged_data=merged_data[pd.to_numeric(merged_data[\"per_cost\"])>100]  # 滤除人均费用比100元少的数据"
   ]
  },
  {
   "cell_type": "code",
   "execution_count": 5,
   "metadata": {},
   "outputs": [],
   "source": [
    "merged_data.loc[:,\"title_length\"]=merged_data[\"标题\"].apply(lambda x: len(x))"
   ]
  },
  {
   "cell_type": "code",
   "execution_count": 6,
   "metadata": {},
   "outputs": [],
   "source": [
    "merged_data=merged_data.reset_index().drop([\"index\",\"Unnamed: 0\",\"date\"],axis=1)"
   ]
  },
  {
   "cell_type": "code",
   "execution_count": 7,
   "metadata": {},
   "outputs": [],
   "source": [
    "drop_col=['标题', '链接', '作者', '出发日期', '天数', '照片数', '人数', '玩法', '费用', '阅读数',\n",
    "          '评论数','玩法_list']\n",
    "merged_data2=merged_data.drop(drop_col,axis=1)"
   ]
  },
  {
   "cell_type": "code",
   "execution_count": 8,
   "metadata": {},
   "outputs": [],
   "source": [
    "# 将点赞数转化为分类变量\n",
    "merged_data2.loc[merged_data2[pd.to_numeric(merged_data2[\"点赞数\"])>20].index,\"z\"]=1\n",
    "merged_data2.loc[merged_data2[pd.to_numeric(merged_data2[\"点赞数\"])<=20].index,\"z\"]=0"
   ]
  },
  {
   "cell_type": "code",
   "execution_count": 9,
   "metadata": {},
   "outputs": [],
   "source": [
    "merged_data2=merged_data2.drop(\"点赞数\",axis=1)"
   ]
  },
  {
   "cell_type": "code",
   "execution_count": 12,
   "metadata": {},
   "outputs": [],
   "source": [
    "merged_data2.to_csv(\"classification_all_data.csv\",index=False)"
   ]
  },
  {
   "cell_type": "code",
   "execution_count": 230,
   "metadata": {},
   "outputs": [],
   "source": [
    "merge_data=merged_data2[(merged_data2[\"read_num_transformed\"]>=8000)&(merged_data2[\"read_num_transformed\"]<12500)]"
   ]
  },
  {
   "cell_type": "code",
   "execution_count": 231,
   "metadata": {},
   "outputs": [],
   "source": [
    "merge_data.to_csv(\"classification_data1.csv\",index=False)"
   ]
  },
  {
   "cell_type": "code",
   "execution_count": 11,
   "metadata": {},
   "outputs": [
    {
     "data": {
      "text/plain": [
       "count    14020.000000\n",
       "mean         0.231669\n",
       "std          0.421914\n",
       "min          0.000000\n",
       "25%          0.000000\n",
       "50%          0.000000\n",
       "75%          0.000000\n",
       "max          1.000000\n",
       "Name: z, dtype: float64"
      ]
     },
     "execution_count": 11,
     "metadata": {},
     "output_type": "execute_result"
    }
   ],
   "source": [
    "merged_data2[\"z\"].describe()"
   ]
  },
  {
   "cell_type": "code",
   "execution_count": 114,
   "metadata": {},
   "outputs": [
    {
     "name": "stdout",
     "output_type": "stream",
     "text": [
      "2015-08\n"
     ]
    }
   ],
   "source": [
    "# 选取四个月内的数据，减少发布时间对阅读数的正向影响\n",
    "date=pd.to_datetime(merged_data[\"date\"]).apply(lambda x:x.strftime(\"%Y-%m\"))\n",
    "date_list = sorted(list(set(date)))\n",
    "count_by_date = [sum(date==date1) for date1 in date_list]\n",
    "start_date = pd.Series(date_list,index=count_by_date).sort_index(ascending=False).iloc[1]\n",
    "print(start_date)\n",
    "merge_data1 = merged_data[(date==\"2015-07\")|(date==\"2015-08\")|(date==\"2015-09\")|(date==\"2015-10\")]"
   ]
  },
  {
   "cell_type": "code",
   "execution_count": 115,
   "metadata": {},
   "outputs": [
    {
     "name": "stderr",
     "output_type": "stream",
     "text": [
      "d:\\quant\\vnpy\\lib\\site-packages\\pandas\\core\\indexing.py:845: SettingWithCopyWarning: \n",
      "A value is trying to be set on a copy of a slice from a DataFrame.\n",
      "Try using .loc[row_indexer,col_indexer] = value instead\n",
      "\n",
      "See the caveats in the documentation: https://pandas.pydata.org/pandas-docs/stable/user_guide/indexing.html#returning-a-view-versus-a-copy\n",
      "  self.obj[key] = _infer_fill_value(value)\n",
      "d:\\quant\\vnpy\\lib\\site-packages\\pandas\\core\\indexing.py:966: SettingWithCopyWarning: \n",
      "A value is trying to be set on a copy of a slice from a DataFrame.\n",
      "Try using .loc[row_indexer,col_indexer] = value instead\n",
      "\n",
      "See the caveats in the documentation: https://pandas.pydata.org/pandas-docs/stable/user_guide/indexing.html#returning-a-view-versus-a-copy\n",
      "  self.obj[item] = s\n"
     ]
    }
   ],
   "source": [
    "merge_data1.loc[:,\"like_num\"] = merge_data1[\"点赞数\"]\n",
    "merge_data1.loc[:,\"comment_num\"] = merge_data1[\"评论数\"]\n",
    "drop_col=['标题', '链接', '作者', '出发日期', '天数', '照片数', '人数', '玩法', '费用', '阅读数','点赞数',\n",
    "          '评论数','玩法_list']\n",
    "merge_data=merge_data1.drop(drop_col,axis=1)"
   ]
  },
  {
   "cell_type": "code",
   "execution_count": 173,
   "metadata": {},
   "outputs": [
    {
     "data": {
      "text/plain": [
       "1223"
      ]
     },
     "execution_count": 173,
     "metadata": {},
     "output_type": "execute_result"
    }
   ],
   "source": [
    "sum((merged_data2[\"read_num_transformed\"]<11500)&(merged_data2[\"read_num_transformed\"]>=7500))"
   ]
  },
  {
   "cell_type": "code",
   "execution_count": 144,
   "metadata": {},
   "outputs": [
    {
     "data": {
      "text/plain": [
       "[<matplotlib.lines.Line2D at 0x27ba190eb38>]"
      ]
     },
     "execution_count": 144,
     "metadata": {},
     "output_type": "execute_result"
    },
    {
     "data": {
      "image/png": "[encoded data removed]",
      "text/plain": [
       "<Figure size 432x288 with 1 Axes>"
      ]
     },
     "metadata": {
      "needs_background": "light"
     },
     "output_type": "display_data"
    }
   ],
   "source": [
    "plt.plot(merged_data2[\"read_num_transformed\"])"
   ]
  },
  {
   "cell_type": "code",
   "execution_count": 129,
   "metadata": {},
   "outputs": [
    {
     "data": {
      "text/plain": [
       "<AxesSubplot:>"
      ]
     },
     "execution_count": 129,
     "metadata": {},
     "output_type": "execute_result"
    },
    {
     "data": {
      "image/png": "[encoded data removed]",
      "text/plain": [
       "<Figure size 432x288 with 1 Axes>"
      ]
     },
     "metadata": {
      "needs_background": "light"
     },
     "output_type": "display_data"
    }
   ],
   "source": [
    "import matplotlib.pyplot as plt\n",
    "import seaborn as sns\n",
    "sns.barplot(x=list(range(len(count_by_date))),y=count_by_date)"
   ]
  },
  {
   "cell_type": "code",
   "execution_count": 118,
   "metadata": {},
   "outputs": [],
   "source": [
    "merge_data=merge_data.reset_index().drop([\"index\",\"Unnamed: 0\",\"date\"],axis=1)"
   ]
  },
  {
   "cell_type": "code",
   "execution_count": 119,
   "metadata": {},
   "outputs": [
    {
     "data": {
      "text/html": [
       "<div>\n",
       "<style scoped>\n",
       "    .dataframe tbody tr th:only-of-type {\n",
       "        vertical-align: middle;\n",
       "    }\n",
       "\n",
       "    .dataframe tbody tr th {\n",
       "        vertical-align: top;\n",
       "    }\n",
       "\n",
       "    .dataframe thead th {\n",
       "        text-align: right;\n",
       "    }\n",
       "</style>\n",
       "<table border=\"1\" class=\"dataframe\">\n",
       "  <thead>\n",
       "    <tr style=\"text-align: right;\">\n",
       "      <th></th>\n",
       "      <th>地点</th>\n",
       "      <th>read_num_transformed</th>\n",
       "      <th>per_cost</th>\n",
       "      <th>travel_days</th>\n",
       "      <th>photo_num</th>\n",
       "      <th>playmode_万圣节</th>\n",
       "      <th>playmode_中秋节</th>\n",
       "      <th>playmode_五一</th>\n",
       "      <th>playmode_人文</th>\n",
       "      <th>playmode_冬季</th>\n",
       "      <th>...</th>\n",
       "      <th>person_num_情侣</th>\n",
       "      <th>person_num_独自一人</th>\n",
       "      <th>person_num_闺蜜</th>\n",
       "      <th>dayofweek</th>\n",
       "      <th>is_weekend</th>\n",
       "      <th>month</th>\n",
       "      <th>season</th>\n",
       "      <th>title_length</th>\n",
       "      <th>like_num</th>\n",
       "      <th>comment_num</th>\n",
       "    </tr>\n",
       "  </thead>\n",
       "  <tbody>\n",
       "    <tr>\n",
       "      <th>0</th>\n",
       "      <td>厦门</td>\n",
       "      <td>461000.0</td>\n",
       "      <td>3500</td>\n",
       "      <td>4</td>\n",
       "      <td>180</td>\n",
       "      <td>0</td>\n",
       "      <td>0</td>\n",
       "      <td>0</td>\n",
       "      <td>0</td>\n",
       "      <td>0</td>\n",
       "      <td>...</td>\n",
       "      <td>0</td>\n",
       "      <td>0</td>\n",
       "      <td>0</td>\n",
       "      <td>1</td>\n",
       "      <td>0</td>\n",
       "      <td>7</td>\n",
       "      <td>2</td>\n",
       "      <td>8</td>\n",
       "      <td>3300</td>\n",
       "      <td>178</td>\n",
       "    </tr>\n",
       "    <tr>\n",
       "      <th>1</th>\n",
       "      <td>厦门</td>\n",
       "      <td>31000.0</td>\n",
       "      <td>2000</td>\n",
       "      <td>4</td>\n",
       "      <td>506</td>\n",
       "      <td>0</td>\n",
       "      <td>0</td>\n",
       "      <td>0</td>\n",
       "      <td>0</td>\n",
       "      <td>0</td>\n",
       "      <td>...</td>\n",
       "      <td>0</td>\n",
       "      <td>0</td>\n",
       "      <td>0</td>\n",
       "      <td>2</td>\n",
       "      <td>0</td>\n",
       "      <td>8</td>\n",
       "      <td>2</td>\n",
       "      <td>11</td>\n",
       "      <td>81</td>\n",
       "      <td>15</td>\n",
       "    </tr>\n",
       "    <tr>\n",
       "      <th>2</th>\n",
       "      <td>厦门</td>\n",
       "      <td>35000.0</td>\n",
       "      <td>3000</td>\n",
       "      <td>7</td>\n",
       "      <td>215</td>\n",
       "      <td>0</td>\n",
       "      <td>0</td>\n",
       "      <td>0</td>\n",
       "      <td>0</td>\n",
       "      <td>0</td>\n",
       "      <td>...</td>\n",
       "      <td>0</td>\n",
       "      <td>0</td>\n",
       "      <td>0</td>\n",
       "      <td>0</td>\n",
       "      <td>0</td>\n",
       "      <td>10</td>\n",
       "      <td>3</td>\n",
       "      <td>11</td>\n",
       "      <td>67</td>\n",
       "      <td>50</td>\n",
       "    </tr>\n",
       "    <tr>\n",
       "      <th>3</th>\n",
       "      <td>厦门</td>\n",
       "      <td>11000.0</td>\n",
       "      <td>3000</td>\n",
       "      <td>4</td>\n",
       "      <td>140</td>\n",
       "      <td>0</td>\n",
       "      <td>0</td>\n",
       "      <td>0</td>\n",
       "      <td>0</td>\n",
       "      <td>0</td>\n",
       "      <td>...</td>\n",
       "      <td>0</td>\n",
       "      <td>0</td>\n",
       "      <td>0</td>\n",
       "      <td>2</td>\n",
       "      <td>0</td>\n",
       "      <td>7</td>\n",
       "      <td>2</td>\n",
       "      <td>15</td>\n",
       "      <td>79</td>\n",
       "      <td>18</td>\n",
       "    </tr>\n",
       "    <tr>\n",
       "      <th>4</th>\n",
       "      <td>厦门</td>\n",
       "      <td>19000.0</td>\n",
       "      <td>3500</td>\n",
       "      <td>5</td>\n",
       "      <td>105</td>\n",
       "      <td>0</td>\n",
       "      <td>0</td>\n",
       "      <td>0</td>\n",
       "      <td>0</td>\n",
       "      <td>0</td>\n",
       "      <td>...</td>\n",
       "      <td>0</td>\n",
       "      <td>0</td>\n",
       "      <td>0</td>\n",
       "      <td>2</td>\n",
       "      <td>0</td>\n",
       "      <td>7</td>\n",
       "      <td>2</td>\n",
       "      <td>19</td>\n",
       "      <td>133</td>\n",
       "      <td>22</td>\n",
       "    </tr>\n",
       "    <tr>\n",
       "      <th>...</th>\n",
       "      <td>...</td>\n",
       "      <td>...</td>\n",
       "      <td>...</td>\n",
       "      <td>...</td>\n",
       "      <td>...</td>\n",
       "      <td>...</td>\n",
       "      <td>...</td>\n",
       "      <td>...</td>\n",
       "      <td>...</td>\n",
       "      <td>...</td>\n",
       "      <td>...</td>\n",
       "      <td>...</td>\n",
       "      <td>...</td>\n",
       "      <td>...</td>\n",
       "      <td>...</td>\n",
       "      <td>...</td>\n",
       "      <td>...</td>\n",
       "      <td>...</td>\n",
       "      <td>...</td>\n",
       "      <td>...</td>\n",
       "      <td>...</td>\n",
       "    </tr>\n",
       "    <tr>\n",
       "      <th>1258</th>\n",
       "      <td>芜湖</td>\n",
       "      <td>15000.0</td>\n",
       "      <td>200</td>\n",
       "      <td>1</td>\n",
       "      <td>12</td>\n",
       "      <td>0</td>\n",
       "      <td>0</td>\n",
       "      <td>0</td>\n",
       "      <td>0</td>\n",
       "      <td>0</td>\n",
       "      <td>...</td>\n",
       "      <td>0</td>\n",
       "      <td>0</td>\n",
       "      <td>0</td>\n",
       "      <td>6</td>\n",
       "      <td>1</td>\n",
       "      <td>7</td>\n",
       "      <td>2</td>\n",
       "      <td>19</td>\n",
       "      <td>33</td>\n",
       "      <td>1</td>\n",
       "    </tr>\n",
       "    <tr>\n",
       "      <th>1259</th>\n",
       "      <td>芜湖</td>\n",
       "      <td>9595.0</td>\n",
       "      <td>350</td>\n",
       "      <td>1</td>\n",
       "      <td>17</td>\n",
       "      <td>0</td>\n",
       "      <td>0</td>\n",
       "      <td>0</td>\n",
       "      <td>0</td>\n",
       "      <td>0</td>\n",
       "      <td>...</td>\n",
       "      <td>0</td>\n",
       "      <td>1</td>\n",
       "      <td>0</td>\n",
       "      <td>6</td>\n",
       "      <td>1</td>\n",
       "      <td>7</td>\n",
       "      <td>2</td>\n",
       "      <td>13</td>\n",
       "      <td>27</td>\n",
       "      <td>5</td>\n",
       "    </tr>\n",
       "    <tr>\n",
       "      <th>1260</th>\n",
       "      <td>芜湖</td>\n",
       "      <td>4461.0</td>\n",
       "      <td>800</td>\n",
       "      <td>3</td>\n",
       "      <td>14</td>\n",
       "      <td>0</td>\n",
       "      <td>0</td>\n",
       "      <td>0</td>\n",
       "      <td>0</td>\n",
       "      <td>0</td>\n",
       "      <td>...</td>\n",
       "      <td>1</td>\n",
       "      <td>0</td>\n",
       "      <td>0</td>\n",
       "      <td>0</td>\n",
       "      <td>0</td>\n",
       "      <td>10</td>\n",
       "      <td>3</td>\n",
       "      <td>20</td>\n",
       "      <td>2</td>\n",
       "      <td>0</td>\n",
       "    </tr>\n",
       "    <tr>\n",
       "      <th>1261</th>\n",
       "      <td>芜湖</td>\n",
       "      <td>2277.0</td>\n",
       "      <td>1000</td>\n",
       "      <td>2</td>\n",
       "      <td>2</td>\n",
       "      <td>0</td>\n",
       "      <td>0</td>\n",
       "      <td>0</td>\n",
       "      <td>0</td>\n",
       "      <td>0</td>\n",
       "      <td>...</td>\n",
       "      <td>0</td>\n",
       "      <td>0</td>\n",
       "      <td>0</td>\n",
       "      <td>0</td>\n",
       "      <td>0</td>\n",
       "      <td>10</td>\n",
       "      <td>3</td>\n",
       "      <td>16</td>\n",
       "      <td>3</td>\n",
       "      <td>0</td>\n",
       "    </tr>\n",
       "    <tr>\n",
       "      <th>1262</th>\n",
       "      <td>邵阳</td>\n",
       "      <td>40000.0</td>\n",
       "      <td>1000</td>\n",
       "      <td>3</td>\n",
       "      <td>1</td>\n",
       "      <td>0</td>\n",
       "      <td>0</td>\n",
       "      <td>0</td>\n",
       "      <td>0</td>\n",
       "      <td>0</td>\n",
       "      <td>...</td>\n",
       "      <td>0</td>\n",
       "      <td>0</td>\n",
       "      <td>0</td>\n",
       "      <td>0</td>\n",
       "      <td>0</td>\n",
       "      <td>10</td>\n",
       "      <td>3</td>\n",
       "      <td>14</td>\n",
       "      <td>77</td>\n",
       "      <td>3</td>\n",
       "    </tr>\n",
       "  </tbody>\n",
       "</table>\n",
       "<p>1263 rows × 60 columns</p>\n",
       "</div>"
      ],
      "text/plain": [
       "      地点  read_num_transformed  per_cost  travel_days  photo_num  \\\n",
       "0     厦门              461000.0      3500            4        180   \n",
       "1     厦门               31000.0      2000            4        506   \n",
       "2     厦门               35000.0      3000            7        215   \n",
       "3     厦门               11000.0      3000            4        140   \n",
       "4     厦门               19000.0      3500            5        105   \n",
       "...   ..                   ...       ...          ...        ...   \n",
       "1258  芜湖               15000.0       200            1         12   \n",
       "1259  芜湖                9595.0       350            1         17   \n",
       "1260  芜湖                4461.0       800            3         14   \n",
       "1261  芜湖                2277.0      1000            2          2   \n",
       "1262  邵阳               40000.0      1000            3          1   \n",
       "\n",
       "      playmode_万圣节  playmode_中秋节  playmode_五一  playmode_人文  playmode_冬季  ...  \\\n",
       "0                0             0            0            0            0  ...   \n",
       "1                0             0            0            0            0  ...   \n",
       "2                0             0            0            0            0  ...   \n",
       "3                0             0            0            0            0  ...   \n",
       "4                0             0            0            0            0  ...   \n",
       "...            ...           ...          ...          ...          ...  ...   \n",
       "1258             0             0            0            0            0  ...   \n",
       "1259             0             0            0            0            0  ...   \n",
       "1260             0             0            0            0            0  ...   \n",
       "1261             0             0            0            0            0  ...   \n",
       "1262             0             0            0            0            0  ...   \n",
       "\n",
       "      person_num_情侣  person_num_独自一人  person_num_闺蜜  dayofweek  is_weekend  \\\n",
       "0                 0                0              0          1           0   \n",
       "1                 0                0              0          2           0   \n",
       "2                 0                0              0          0           0   \n",
       "3                 0                0              0          2           0   \n",
       "4                 0                0              0          2           0   \n",
       "...             ...              ...            ...        ...         ...   \n",
       "1258              0                0              0          6           1   \n",
       "1259              0                1              0          6           1   \n",
       "1260              1                0              0          0           0   \n",
       "1261              0                0              0          0           0   \n",
       "1262              0                0              0          0           0   \n",
       "\n",
       "      month  season  title_length  like_num  comment_num  \n",
       "0         7       2             8      3300          178  \n",
       "1         8       2            11        81           15  \n",
       "2        10       3            11        67           50  \n",
       "3         7       2            15        79           18  \n",
       "4         7       2            19       133           22  \n",
       "...     ...     ...           ...       ...          ...  \n",
       "1258      7       2            19        33            1  \n",
       "1259      7       2            13        27            5  \n",
       "1260     10       3            20         2            0  \n",
       "1261     10       3            16         3            0  \n",
       "1262     10       3            14        77            3  \n",
       "\n",
       "[1263 rows x 60 columns]"
      ]
     },
     "execution_count": 119,
     "metadata": {},
     "output_type": "execute_result"
    }
   ],
   "source": [
    "merge_data"
   ]
  },
  {
   "cell_type": "code",
   "execution_count": 120,
   "metadata": {
    "scrolled": true
   },
   "outputs": [],
   "source": [
    "merge_data.to_csv('regression_data1.csv',index=False)"
   ]
  },
  {
   "cell_type": "code",
   "execution_count": 236,
   "metadata": {},
   "outputs": [
    {
     "name": "stdout",
     "output_type": "stream",
     "text": [
      "2015-08\n"
     ]
    }
   ],
   "source": [
    "import pandas as pd\n",
    "import numpy as np\n",
    "from scipy.cluster.hierarchy import dendrogram, linkage, fcluster\n",
    "from matplotlib import pyplot as plt\n",
    "\n",
    "merged_data=pd.read_csv(\"qunar_merged_preprocess1.csv\")  # 读取数据\n",
    "merged_data=merged_data.dropna()  # 滤除缺失值\n",
    "merged_data=merged_data[pd.to_numeric(merged_data[\"travel_days\"])<10]  \n",
    "# 滤除游玩天数多于10天的数据\n",
    "merged_data=merged_data[pd.to_numeric(merged_data[\"per_cost\"])>100]  \n",
    "# 滤除人均费用比100元少的数据\n",
    "merged_data.loc[:,\"title_length\"]=merged_data[\"标题\"].apply(lambda x: len(x))\n",
    "# 添加标题长度变量\n",
    "\n",
    "# 选取四个月内的数据，减少发布时间对阅读数的正向影响\n",
    "date=pd.to_datetime(merged_data[\"date\"]).apply(lambda x:x.strftime(\"%Y-%m\"))\n",
    "date_list = sorted(list(set(date)))\n",
    "count_by_date = [sum(date==date1) for date1 in date_list]\n",
    "start_date = pd.Series(date_list,index=count_by_date).sort_index(ascending=False).iloc[1]\n",
    "print(start_date)\n",
    "merge_data1 = merged_data[(date==\"2015-07\")|(date==\"2015-08\")|(date==\"2015-09\")|(date==\"2015-10\")]\n",
    "\n",
    "drop_col=['标题', '链接', '作者', '出发日期', '天数', '照片数', '人数', '玩法', '费用', '阅读数', '点赞数', '评论数','玩法_list']\n",
    "merge_data=merge_data1.drop(drop_col,axis=1)\n",
    "merge_data=merge_data.reset_index().drop([\"index\",\"Unnamed: 0\",\"date\"],axis=1)\n",
    "merge_data.to_csv('regression_data1.csv',index=False)"
   ]
  },
  {
   "cell_type": "code",
   "execution_count": 237,
   "metadata": {},
   "outputs": [
    {
     "name": "stdout",
     "output_type": "stream",
     "text": [
      "playmode_美食 \n",
      " ['playmode_人文', 'playmode_古镇', 'playmode_国庆', 'playmode_夏季', 'playmode_徒步', 'playmode_摄影', 'playmode_暑假', 'playmode_毕业游', 'playmode_海滨海岛', 'playmode_深度游', 'playmode_温泉', 'playmode_游轮', 'playmode_漫游', 'playmode_环游', 'playmode_短途周末', 'playmode_穷游', 'playmode_第一次', 'playmode_自驾', 'playmode_蜜月', 'playmode_购物', 'playmode_赏秋', 'playmode_骑行']\n"
     ]
    },
    {
     "data": {
      "image/png": "[encoded data removed]",
      "text/plain": [
       "<Figure size 432x288 with 1 Axes>"
      ]
     },
     "metadata": {
      "needs_background": "light"
     },
     "output_type": "display_data"
    }
   ],
   "source": [
    "# 先运行上面的部分，再运行下面的代码\n",
    "data = pd.read_csv(\"regression_data1.csv\")\n",
    "# 给playmode系列变量降维\n",
    "df1 = data.iloc[:,5:46]\n",
    "df2 = pd.DataFrame(df1.values.T, index=df1.columns, columns=df1.index)  # 转置数据\n",
    "df1.sum().describe()\n",
    "df2=df2[df1.sum()>10]  # 玩法频率太低不具有代表性，应剔除\n",
    "z = linkage(df2,method=\"average\",metric='euclidean')  # 层次聚类\n",
    "dendrogram(z)  # 层次聚类树状图\n",
    "index = list(df2.index)\n",
    "set1 = index[17]\n",
    "set2 = index \n",
    "set2.pop(17)\n",
    "print(set1,\"\\n\",set2)\n",
    "\n",
    "data.loc[:,\"playmode1\"]=data[\"playmode_美食\"]\n",
    "df3=df2.drop(df2.index[17])\n",
    "data.loc[df1[df3.sum()>0].index,\"playmode2\"]=1\n",
    "data.loc[df1[df3.sum()==0].index,\"playmode2\"]=0 \n",
    "# 只要有第二类中的玩法则为1，否则为0\n",
    "data=data.drop(df1.columns,axis=1)\n",
    "data=data.drop([\"month\",\"season\",\"dayofweek\",\"person_num_学生\",\"地点\"],axis=1)\n",
    "data.to_csv(\"regression.csv\",index=False)"
   ]
  },
  {
   "cell_type": "code",
   "execution_count": 238,
   "metadata": {},
   "outputs": [
    {
     "data": {
      "text/plain": [
       "(1263, 14)"
      ]
     },
     "execution_count": 238,
     "metadata": {},
     "output_type": "execute_result"
    }
   ],
   "source": [
    "data.shape"
   ]
  }
 ],
 "metadata": {
  "kernelspec": {
   "display_name": "Python 3",
   "language": "python",
   "name": "python3"
  },
  "language_info": {
   "codemirror_mode": {
    "name": "ipython",
    "version": 3
   },
   "file_extension": ".py",
   "mimetype": "text/x-python",
   "name": "python",
   "nbconvert_exporter": "python",
   "pygments_lexer": "ipython3",
   "version": "3.7.1"
  }
 },
 "nbformat": 4,
 "nbformat_minor": 4
}
