{
 "cells": [
  {
   "cell_type": "code",
   "execution_count": 1,
   "metadata": {
    "colab": {
     "base_uri": "https://localhost:8080/"
    },
    "executionInfo": {
     "elapsed": 501,
     "status": "ok",
     "timestamp": 1637474507301,
     "user": {
      "displayName": "李澳",
      "photoUrl": "https://lh3.googleusercontent.com/a-/AOh14Ghb4M3X_z9UbhnPRzfOTeWlobmo3Ja-j1Kefwel=s64",
      "userId": "11809085526774048180"
     },
     "user_tz": -480
    },
    "id": "DHn1-qrXwfIz",
    "outputId": "569c1480-7ac9-432e-cb7b-fd9ebf5cef7f"
   },
   "outputs": [
    {
     "name": "stdout",
     "output_type": "stream",
     "text": [
      "Drive already mounted at /content/gdrive; to attempt to forcibly remount, call drive.mount(\"/content/gdrive\", force_remount=True).\n"
     ]
    }
   ],
   "source": [
    "#连接到谷歌云盘\n",
    "# from google.colab import drive\n",
    "# drive.mount('/content/gdrive')"
   ]
  },
  {
   "cell_type": "code",
   "execution_count": null,
   "metadata": {},
   "outputs": [],
   "source": [
    "pip install "
   ]
  },
  {
   "cell_type": "code",
   "execution_count": 2,
   "metadata": {
    "executionInfo": {
     "elapsed": 427,
     "status": "ok",
     "timestamp": 1637474510204,
     "user": {
      "displayName": "李澳",
      "photoUrl": "https://lh3.googleusercontent.com/a-/AOh14Ghb4M3X_z9UbhnPRzfOTeWlobmo3Ja-j1Kefwel=s64",
      "userId": "11809085526774048180"
     },
     "user_tz": -480
    },
    "id": "wYX4GRY-xFqD"
   },
   "outputs": [],
   "source": [
    "import os\n",
    "os.chdir(\"D:\\数据挖掘\\大作业\\data_operate\")"
   ]
  },
  {
   "cell_type": "code",
   "execution_count": 1,
   "metadata": {
    "colab": {
     "base_uri": "https://localhost:8080/"
    },
    "executionInfo": {
     "elapsed": 2554,
     "status": "ok",
     "timestamp": 1637474516697,
     "user": {
      "displayName": "李澳",
      "photoUrl": "https://lh3.googleusercontent.com/a-/AOh14Ghb4M3X_z9UbhnPRzfOTeWlobmo3Ja-j1Kefwel=s64",
      "userId": "11809085526774048180"
     },
     "user_tz": -480
    },
    "id": "_j-CJCDfxHeg",
    "outputId": "3159ce51-52ae-4104-d0b2-8da287f24ff7"
   },
   "outputs": [
    {
     "name": "stdout",
     "output_type": "stream",
     "text": [
      "2.7.0\n"
     ]
    }
   ],
   "source": [
    "# Python ≥3.5 is required\n",
    "import sys\n",
    "assert sys.version_info >= (3, 5)\n",
    "\n",
    "# Scikit-Learn ≥0.20 is required\n",
    "import sklearn\n",
    "assert sklearn.__version__ >= \"0.20\"\n",
    "\n",
    "try:\n",
    "    # %tensorflow_version only exists in Colab.\n",
    "    %tensorflow_version 2.x\n",
    "except Exception:\n",
    "    pass\n",
    "\n",
    "# TensorFlow ≥2.0 is required\n",
    "import tensorflow as tf\n",
    "print(tf.__version__)\n",
    "assert tf.__version__ >= \"2.0\"\n",
    "\n",
    "# Common imports\n",
    "import numpy as np\n",
    "import pandas as pd\n",
    "import os\n",
    "\n",
    "# to make this notebook's output stable across runs\n",
    "np.random.seed(42)\n",
    "\n",
    "# To plot pretty figures\n",
    "%matplotlib inline\n",
    "import matplotlib as mpl\n",
    "import matplotlib.pyplot as plt\n",
    "mpl.rc('axes', labelsize=14)\n",
    "mpl.rc('xtick', labelsize=12)\n",
    "mpl.rc('ytick', labelsize=12)\n",
    "\n",
    "'''\n",
    "# Where to save the figures\n",
    "PROJECT_ROOT_DIR = \".\"\n",
    "CHAPTER_ID = \"Base task\"\n",
    "IMAGES_PATH = os.path.join(PROJECT_ROOT_DIR, \"images\", CHAPTER_ID)\n",
    "os.makedirs(IMAGES_PATH, exist_ok=True)\n",
    "\n",
    "def save_fig(fig_id, tight_layout=True, fig_extension=\"png\", resolution=300):\n",
    "    path = os.path.join(IMAGES_PATH, fig_id + \".\" + fig_extension)\n",
    "    print(\"Saving figure\", fig_id)\n",
    "    if tight_layout:\n",
    "        plt.tight_layout()\n",
    "    plt.savefig(path, format=fig_extension, dpi=resolution)\n",
    "'''\n",
    "\n",
    "import warnings\n",
    "warnings.filterwarnings(\"ignore\")"
   ]
  },
  {
   "cell_type": "code",
   "execution_count": 2,
   "metadata": {},
   "outputs": [
    {
     "name": "stdout",
     "output_type": "stream",
     "text": [
      "\n",
      "The following command must be run outside of the IPython shell:\n",
      "\n",
      "    $ pip install -i https://pypi.tuna.tsinghua.edu.cn/simple tensorflow\n",
      "\n",
      "The Python package manager (pip) can only be used from outside of IPython.\n",
      "Please reissue the `pip` command in a separate terminal or command prompt.\n",
      "\n",
      "See the Python documentation for more information on how to install packages:\n",
      "\n",
      "    https://docs.python.org/3/installing/\n"
     ]
    }
   ],
   "source": [
    "pip install -i https://pypi.tuna.tsinghua.edu.cn/simple tensorflow  # 镜像下载"
   ]
  },
  {
   "cell_type": "markdown",
   "metadata": {
    "id": "miHTdzCMxn1r"
   },
   "source": [
    "## 导入数据(X)"
   ]
  },
  {
   "cell_type": "code",
   "execution_count": 3,
   "metadata": {
    "colab": {
     "base_uri": "https://localhost:8080/",
     "height": 362
    },
    "executionInfo": {
     "elapsed": 3330,
     "status": "ok",
     "timestamp": 1637474545012,
     "user": {
      "displayName": "李澳",
      "photoUrl": "https://lh3.googleusercontent.com/a-/AOh14Ghb4M3X_z9UbhnPRzfOTeWlobmo3Ja-j1Kefwel=s64",
      "userId": "11809085526774048180"
     },
     "user_tz": -480
    },
    "id": "ooNqruSSxlzf",
    "outputId": "58230a65-df23-4266-ef34-0bdbd96f33b1"
   },
   "outputs": [
    {
     "name": "stdout",
     "output_type": "stream",
     "text": [
      "(5660, 78)\n",
      "<class 'pandas.core.frame.DataFrame'>\n"
     ]
    },
    {
     "data": {
      "text/html": [
       "<div>\n",
       "<style scoped>\n",
       "    .dataframe tbody tr th:only-of-type {\n",
       "        vertical-align: middle;\n",
       "    }\n",
       "\n",
       "    .dataframe tbody tr th {\n",
       "        vertical-align: top;\n",
       "    }\n",
       "\n",
       "    .dataframe thead th {\n",
       "        text-align: right;\n",
       "    }\n",
       "</style>\n",
       "<table border=\"1\" class=\"dataframe\">\n",
       "  <thead>\n",
       "    <tr style=\"text-align: right;\">\n",
       "      <th></th>\n",
       "      <th>标题</th>\n",
       "      <th>链接</th>\n",
       "      <th>作者</th>\n",
       "      <th>出发日期</th>\n",
       "      <th>天数</th>\n",
       "      <th>照片数</th>\n",
       "      <th>人数</th>\n",
       "      <th>玩法</th>\n",
       "      <th>费用</th>\n",
       "      <th>阅读数</th>\n",
       "      <th>...</th>\n",
       "      <th>person_num_学生</th>\n",
       "      <th>person_num_家庭</th>\n",
       "      <th>person_num_情侣</th>\n",
       "      <th>person_num_独自一人</th>\n",
       "      <th>person_num_闺蜜</th>\n",
       "      <th>date</th>\n",
       "      <th>dayofweek</th>\n",
       "      <th>is_weekend</th>\n",
       "      <th>month</th>\n",
       "      <th>season</th>\n",
       "    </tr>\n",
       "  </thead>\n",
       "  <tbody>\n",
       "    <tr>\n",
       "      <th>0</th>\n",
       "      <td>秋色上海·二宝妈遛娃记之博物馆一日游</td>\n",
       "      <td>https://travel.qunar.com/youji/7407474</td>\n",
       "      <td>茉莉花陆陆</td>\n",
       "      <td>2018-10-04 出发</td>\n",
       "      <td>共1天</td>\n",
       "      <td>290张照片</td>\n",
       "      <td>NaN</td>\n",
       "      <td>赏秋</td>\n",
       "      <td>NaN</td>\n",
       "      <td>1.4万</td>\n",
       "      <td>...</td>\n",
       "      <td>0</td>\n",
       "      <td>0</td>\n",
       "      <td>0</td>\n",
       "      <td>0</td>\n",
       "      <td>0</td>\n",
       "      <td>2018-10-04</td>\n",
       "      <td>3</td>\n",
       "      <td>0</td>\n",
       "      <td>10</td>\n",
       "      <td>3</td>\n",
       "    </tr>\n",
       "    <tr>\n",
       "      <th>1</th>\n",
       "      <td>游上海，看这一篇就够啦！手绘上海玩全攻略</td>\n",
       "      <td>https://travel.qunar.com/youji/6910266</td>\n",
       "      <td>慢游时光</td>\n",
       "      <td>2017-09-16 出发</td>\n",
       "      <td>共7天</td>\n",
       "      <td>119张照片</td>\n",
       "      <td>独自一人</td>\n",
       "      <td>美食 摄影 徒步</td>\n",
       "      <td>NaN</td>\n",
       "      <td>19.7万</td>\n",
       "      <td>...</td>\n",
       "      <td>0</td>\n",
       "      <td>0</td>\n",
       "      <td>0</td>\n",
       "      <td>1</td>\n",
       "      <td>0</td>\n",
       "      <td>2017-09-16</td>\n",
       "      <td>5</td>\n",
       "      <td>1</td>\n",
       "      <td>9</td>\n",
       "      <td>3</td>\n",
       "    </tr>\n",
       "    <tr>\n",
       "      <th>2</th>\n",
       "      <td>[购物]是时候全方位得高大上了——来魔都体验三大等级八大商圈！！</td>\n",
       "      <td>https://travel.qunar.com/youji/7089576</td>\n",
       "      <td>D_ominus</td>\n",
       "      <td>2018-08-15 出发</td>\n",
       "      <td>共1天</td>\n",
       "      <td>55张照片</td>\n",
       "      <td>三五好友</td>\n",
       "      <td>购物 暑假 夏季 短途周末</td>\n",
       "      <td>人均1000元</td>\n",
       "      <td>3.2万</td>\n",
       "      <td>...</td>\n",
       "      <td>0</td>\n",
       "      <td>0</td>\n",
       "      <td>0</td>\n",
       "      <td>0</td>\n",
       "      <td>0</td>\n",
       "      <td>2018-08-15</td>\n",
       "      <td>2</td>\n",
       "      <td>0</td>\n",
       "      <td>8</td>\n",
       "      <td>2</td>\n",
       "    </tr>\n",
       "    <tr>\n",
       "      <th>3</th>\n",
       "      <td>给你一个不一样的上海---记五天四晚暴走魔都</td>\n",
       "      <td>https://travel.qunar.com/youji/6785950</td>\n",
       "      <td>踮脚尖的温柔...</td>\n",
       "      <td>2015-06-01 出发</td>\n",
       "      <td>共5天</td>\n",
       "      <td>313张照片</td>\n",
       "      <td>闺蜜</td>\n",
       "      <td>购物 美食</td>\n",
       "      <td>人均2000元</td>\n",
       "      <td>5.1万</td>\n",
       "      <td>...</td>\n",
       "      <td>0</td>\n",
       "      <td>0</td>\n",
       "      <td>0</td>\n",
       "      <td>0</td>\n",
       "      <td>1</td>\n",
       "      <td>2015-06-01</td>\n",
       "      <td>0</td>\n",
       "      <td>0</td>\n",
       "      <td>6</td>\n",
       "      <td>2</td>\n",
       "    </tr>\n",
       "    <tr>\n",
       "      <th>4</th>\n",
       "      <td>上海四晚五日亲子游</td>\n",
       "      <td>https://travel.qunar.com/youji/6815261</td>\n",
       "      <td>一少爷</td>\n",
       "      <td>2017-04-27 出发</td>\n",
       "      <td>共5天</td>\n",
       "      <td>699张照片</td>\n",
       "      <td>亲子</td>\n",
       "      <td>短途周末</td>\n",
       "      <td>人均5000元</td>\n",
       "      <td>9.2万</td>\n",
       "      <td>...</td>\n",
       "      <td>0</td>\n",
       "      <td>0</td>\n",
       "      <td>0</td>\n",
       "      <td>0</td>\n",
       "      <td>0</td>\n",
       "      <td>2017-04-27</td>\n",
       "      <td>3</td>\n",
       "      <td>0</td>\n",
       "      <td>4</td>\n",
       "      <td>1</td>\n",
       "    </tr>\n",
       "  </tbody>\n",
       "</table>\n",
       "<p>5 rows × 78 columns</p>\n",
       "</div>"
      ],
      "text/plain": [
       "                                 标题                                      链接  \\\n",
       "0                秋色上海·二宝妈遛娃记之博物馆一日游  https://travel.qunar.com/youji/7407474   \n",
       "1              游上海，看这一篇就够啦！手绘上海玩全攻略  https://travel.qunar.com/youji/6910266   \n",
       "2  [购物]是时候全方位得高大上了——来魔都体验三大等级八大商圈！！  https://travel.qunar.com/youji/7089576   \n",
       "3            给你一个不一样的上海---记五天四晚暴走魔都  https://travel.qunar.com/youji/6785950   \n",
       "4                         上海四晚五日亲子游  https://travel.qunar.com/youji/6815261   \n",
       "\n",
       "          作者           出发日期   天数     照片数    人数             玩法       费用    阅读数  \\\n",
       "0      茉莉花陆陆  2018-10-04 出发  共1天  290张照片   NaN             赏秋      NaN   1.4万   \n",
       "1       慢游时光  2017-09-16 出发  共7天  119张照片  独自一人       美食 摄影 徒步      NaN  19.7万   \n",
       "2   D_ominus  2018-08-15 出发  共1天   55张照片  三五好友  购物 暑假 夏季 短途周末  人均1000元   3.2万   \n",
       "3  踮脚尖的温柔...  2015-06-01 出发  共5天  313张照片    闺蜜          购物 美食  人均2000元   5.1万   \n",
       "4        一少爷  2017-04-27 出发  共5天  699张照片    亲子           短途周末  人均5000元   9.2万   \n",
       "\n",
       "   ...  person_num_学生  person_num_家庭 person_num_情侣  person_num_独自一人  \\\n",
       "0  ...              0              0             0                0   \n",
       "1  ...              0              0             0                1   \n",
       "2  ...              0              0             0                0   \n",
       "3  ...              0              0             0                0   \n",
       "4  ...              0              0             0                0   \n",
       "\n",
       "  person_num_闺蜜        date  dayofweek  is_weekend  month  season  \n",
       "0             0  2018-10-04          3           0     10       3  \n",
       "1             0  2017-09-16          5           1      9       3  \n",
       "2             0  2018-08-15          2           0      8       2  \n",
       "3             1  2015-06-01          0           0      6       2  \n",
       "4             0  2017-04-27          3           0      4       1  \n",
       "\n",
       "[5 rows x 78 columns]"
      ]
     },
     "execution_count": 3,
     "metadata": {},
     "output_type": "execute_result"
    }
   ],
   "source": [
    "import pandas as pd\n",
    "X=pd.read_csv(\"temp.csv\")\n",
    "print(X.shape)\n",
    "print(type(X))\n",
    "X.head()"
   ]
  },
  {
   "cell_type": "code",
   "execution_count": 5,
   "metadata": {
    "colab": {
     "base_uri": "https://localhost:8080/"
    },
    "executionInfo": {
     "elapsed": 439,
     "status": "ok",
     "timestamp": 1637474547421,
     "user": {
      "displayName": "李澳",
      "photoUrl": "https://lh3.googleusercontent.com/a-/AOh14Ghb4M3X_z9UbhnPRzfOTeWlobmo3Ja-j1Kefwel=s64",
      "userId": "11809085526774048180"
     },
     "user_tz": -480
    },
    "id": "Nrhp2d5K3fbf",
    "outputId": "f9011a28-3244-4e95-9a88-c5d203659fa0"
   },
   "outputs": [
    {
     "data": {
      "text/html": [
       "<div>\n",
       "<style scoped>\n",
       "    .dataframe tbody tr th:only-of-type {\n",
       "        vertical-align: middle;\n",
       "    }\n",
       "\n",
       "    .dataframe tbody tr th {\n",
       "        vertical-align: top;\n",
       "    }\n",
       "\n",
       "    .dataframe thead th {\n",
       "        text-align: right;\n",
       "    }\n",
       "</style>\n",
       "<table border=\"1\" class=\"dataframe\">\n",
       "  <thead>\n",
       "    <tr style=\"text-align: right;\">\n",
       "      <th></th>\n",
       "      <th>点赞数</th>\n",
       "      <th>评论数</th>\n",
       "      <th>id</th>\n",
       "      <th>sharCT</th>\n",
       "      <th>collectCT</th>\n",
       "      <th>commentCT</th>\n",
       "      <th>likeCT</th>\n",
       "      <th>content_count</th>\n",
       "      <th>read_num_transformed</th>\n",
       "      <th>per_cost</th>\n",
       "      <th>...</th>\n",
       "      <th>person_num_亲子</th>\n",
       "      <th>person_num_学生</th>\n",
       "      <th>person_num_家庭</th>\n",
       "      <th>person_num_情侣</th>\n",
       "      <th>person_num_独自一人</th>\n",
       "      <th>person_num_闺蜜</th>\n",
       "      <th>dayofweek</th>\n",
       "      <th>is_weekend</th>\n",
       "      <th>month</th>\n",
       "      <th>season</th>\n",
       "    </tr>\n",
       "  </thead>\n",
       "  <tbody>\n",
       "    <tr>\n",
       "      <th>count</th>\n",
       "      <td>5660.000000</td>\n",
       "      <td>5660.000000</td>\n",
       "      <td>5.660000e+03</td>\n",
       "      <td>5612.000000</td>\n",
       "      <td>5612.000000</td>\n",
       "      <td>5612.000000</td>\n",
       "      <td>5612.000000</td>\n",
       "      <td>5457.000000</td>\n",
       "      <td>5.660000e+03</td>\n",
       "      <td>5660.000000</td>\n",
       "      <td>...</td>\n",
       "      <td>5660.000000</td>\n",
       "      <td>5660.000000</td>\n",
       "      <td>5660.000000</td>\n",
       "      <td>5660.000000</td>\n",
       "      <td>5660.000000</td>\n",
       "      <td>5660.000000</td>\n",
       "      <td>5660.000000</td>\n",
       "      <td>5660.000000</td>\n",
       "      <td>5660.000000</td>\n",
       "      <td>5660.000000</td>\n",
       "    </tr>\n",
       "    <tr>\n",
       "      <th>mean</th>\n",
       "      <td>23.089399</td>\n",
       "      <td>3.952473</td>\n",
       "      <td>6.243191e+06</td>\n",
       "      <td>3.785816</td>\n",
       "      <td>39.451532</td>\n",
       "      <td>3.981825</td>\n",
       "      <td>23.248218</td>\n",
       "      <td>2831.561297</td>\n",
       "      <td>9.274157e+03</td>\n",
       "      <td>1332.833922</td>\n",
       "      <td>...</td>\n",
       "      <td>0.063251</td>\n",
       "      <td>0.006360</td>\n",
       "      <td>0.110777</td>\n",
       "      <td>0.095053</td>\n",
       "      <td>0.169081</td>\n",
       "      <td>0.088693</td>\n",
       "      <td>3.254064</td>\n",
       "      <td>0.344170</td>\n",
       "      <td>6.384629</td>\n",
       "      <td>2.362367</td>\n",
       "    </tr>\n",
       "    <tr>\n",
       "      <th>std</th>\n",
       "      <td>126.165435</td>\n",
       "      <td>10.937970</td>\n",
       "      <td>1.409916e+06</td>\n",
       "      <td>26.910091</td>\n",
       "      <td>199.769785</td>\n",
       "      <td>10.977319</td>\n",
       "      <td>126.692411</td>\n",
       "      <td>3672.736035</td>\n",
       "      <td>2.587484e+04</td>\n",
       "      <td>2827.598425</td>\n",
       "      <td>...</td>\n",
       "      <td>0.243435</td>\n",
       "      <td>0.079505</td>\n",
       "      <td>0.313884</td>\n",
       "      <td>0.293314</td>\n",
       "      <td>0.374857</td>\n",
       "      <td>0.284325</td>\n",
       "      <td>1.945932</td>\n",
       "      <td>0.475139</td>\n",
       "      <td>3.307893</td>\n",
       "      <td>1.105320</td>\n",
       "    </tr>\n",
       "    <tr>\n",
       "      <th>min</th>\n",
       "      <td>0.000000</td>\n",
       "      <td>0.000000</td>\n",
       "      <td>2.106000e+03</td>\n",
       "      <td>0.000000</td>\n",
       "      <td>0.000000</td>\n",
       "      <td>0.000000</td>\n",
       "      <td>0.000000</td>\n",
       "      <td>2.000000</td>\n",
       "      <td>2.000000e+00</td>\n",
       "      <td>-1.000000</td>\n",
       "      <td>...</td>\n",
       "      <td>0.000000</td>\n",
       "      <td>0.000000</td>\n",
       "      <td>0.000000</td>\n",
       "      <td>0.000000</td>\n",
       "      <td>0.000000</td>\n",
       "      <td>0.000000</td>\n",
       "      <td>0.000000</td>\n",
       "      <td>0.000000</td>\n",
       "      <td>1.000000</td>\n",
       "      <td>1.000000</td>\n",
       "    </tr>\n",
       "    <tr>\n",
       "      <th>25%</th>\n",
       "      <td>1.000000</td>\n",
       "      <td>0.000000</td>\n",
       "      <td>5.722127e+06</td>\n",
       "      <td>0.000000</td>\n",
       "      <td>1.000000</td>\n",
       "      <td>0.000000</td>\n",
       "      <td>1.000000</td>\n",
       "      <td>755.000000</td>\n",
       "      <td>1.792750e+03</td>\n",
       "      <td>-1.000000</td>\n",
       "      <td>...</td>\n",
       "      <td>0.000000</td>\n",
       "      <td>0.000000</td>\n",
       "      <td>0.000000</td>\n",
       "      <td>0.000000</td>\n",
       "      <td>0.000000</td>\n",
       "      <td>0.000000</td>\n",
       "      <td>2.000000</td>\n",
       "      <td>0.000000</td>\n",
       "      <td>4.000000</td>\n",
       "      <td>1.000000</td>\n",
       "    </tr>\n",
       "    <tr>\n",
       "      <th>50%</th>\n",
       "      <td>5.000000</td>\n",
       "      <td>0.000000</td>\n",
       "      <td>6.619694e+06</td>\n",
       "      <td>0.000000</td>\n",
       "      <td>6.000000</td>\n",
       "      <td>0.000000</td>\n",
       "      <td>5.000000</td>\n",
       "      <td>1747.000000</td>\n",
       "      <td>3.683500e+03</td>\n",
       "      <td>399.500000</td>\n",
       "      <td>...</td>\n",
       "      <td>0.000000</td>\n",
       "      <td>0.000000</td>\n",
       "      <td>0.000000</td>\n",
       "      <td>0.000000</td>\n",
       "      <td>0.000000</td>\n",
       "      <td>0.000000</td>\n",
       "      <td>4.000000</td>\n",
       "      <td>0.000000</td>\n",
       "      <td>6.000000</td>\n",
       "      <td>2.000000</td>\n",
       "    </tr>\n",
       "    <tr>\n",
       "      <th>75%</th>\n",
       "      <td>16.000000</td>\n",
       "      <td>3.000000</td>\n",
       "      <td>7.048528e+06</td>\n",
       "      <td>2.000000</td>\n",
       "      <td>21.000000</td>\n",
       "      <td>3.000000</td>\n",
       "      <td>16.000000</td>\n",
       "      <td>3545.000000</td>\n",
       "      <td>7.609000e+03</td>\n",
       "      <td>2000.000000</td>\n",
       "      <td>...</td>\n",
       "      <td>0.000000</td>\n",
       "      <td>0.000000</td>\n",
       "      <td>0.000000</td>\n",
       "      <td>0.000000</td>\n",
       "      <td>0.000000</td>\n",
       "      <td>0.000000</td>\n",
       "      <td>5.000000</td>\n",
       "      <td>1.000000</td>\n",
       "      <td>9.000000</td>\n",
       "      <td>3.000000</td>\n",
       "    </tr>\n",
       "    <tr>\n",
       "      <th>max</th>\n",
       "      <td>7109.000000</td>\n",
       "      <td>204.000000</td>\n",
       "      <td>7.706418e+06</td>\n",
       "      <td>803.000000</td>\n",
       "      <td>6911.000000</td>\n",
       "      <td>204.000000</td>\n",
       "      <td>7109.000000</td>\n",
       "      <td>44391.000000</td>\n",
       "      <td>1.157000e+06</td>\n",
       "      <td>80000.000000</td>\n",
       "      <td>...</td>\n",
       "      <td>1.000000</td>\n",
       "      <td>1.000000</td>\n",
       "      <td>1.000000</td>\n",
       "      <td>1.000000</td>\n",
       "      <td>1.000000</td>\n",
       "      <td>1.000000</td>\n",
       "      <td>6.000000</td>\n",
       "      <td>1.000000</td>\n",
       "      <td>12.000000</td>\n",
       "      <td>4.000000</td>\n",
       "    </tr>\n",
       "  </tbody>\n",
       "</table>\n",
       "<p>8 rows × 64 columns</p>\n",
       "</div>"
      ],
      "text/plain": [
       "               点赞数          评论数            id       sharCT    collectCT  \\\n",
       "count  5660.000000  5660.000000  5.660000e+03  5612.000000  5612.000000   \n",
       "mean     23.089399     3.952473  6.243191e+06     3.785816    39.451532   \n",
       "std     126.165435    10.937970  1.409916e+06    26.910091   199.769785   \n",
       "min       0.000000     0.000000  2.106000e+03     0.000000     0.000000   \n",
       "25%       1.000000     0.000000  5.722127e+06     0.000000     1.000000   \n",
       "50%       5.000000     0.000000  6.619694e+06     0.000000     6.000000   \n",
       "75%      16.000000     3.000000  7.048528e+06     2.000000    21.000000   \n",
       "max    7109.000000   204.000000  7.706418e+06   803.000000  6911.000000   \n",
       "\n",
       "         commentCT       likeCT  content_count  read_num_transformed  \\\n",
       "count  5612.000000  5612.000000    5457.000000          5.660000e+03   \n",
       "mean      3.981825    23.248218    2831.561297          9.274157e+03   \n",
       "std      10.977319   126.692411    3672.736035          2.587484e+04   \n",
       "min       0.000000     0.000000       2.000000          2.000000e+00   \n",
       "25%       0.000000     1.000000     755.000000          1.792750e+03   \n",
       "50%       0.000000     5.000000    1747.000000          3.683500e+03   \n",
       "75%       3.000000    16.000000    3545.000000          7.609000e+03   \n",
       "max     204.000000  7109.000000   44391.000000          1.157000e+06   \n",
       "\n",
       "           per_cost  ...  person_num_亲子  person_num_学生  person_num_家庭  \\\n",
       "count   5660.000000  ...    5660.000000    5660.000000    5660.000000   \n",
       "mean    1332.833922  ...       0.063251       0.006360       0.110777   \n",
       "std     2827.598425  ...       0.243435       0.079505       0.313884   \n",
       "min       -1.000000  ...       0.000000       0.000000       0.000000   \n",
       "25%       -1.000000  ...       0.000000       0.000000       0.000000   \n",
       "50%      399.500000  ...       0.000000       0.000000       0.000000   \n",
       "75%     2000.000000  ...       0.000000       0.000000       0.000000   \n",
       "max    80000.000000  ...       1.000000       1.000000       1.000000   \n",
       "\n",
       "       person_num_情侣  person_num_独自一人  person_num_闺蜜    dayofweek  \\\n",
       "count    5660.000000      5660.000000    5660.000000  5660.000000   \n",
       "mean        0.095053         0.169081       0.088693     3.254064   \n",
       "std         0.293314         0.374857       0.284325     1.945932   \n",
       "min         0.000000         0.000000       0.000000     0.000000   \n",
       "25%         0.000000         0.000000       0.000000     2.000000   \n",
       "50%         0.000000         0.000000       0.000000     4.000000   \n",
       "75%         0.000000         0.000000       0.000000     5.000000   \n",
       "max         1.000000         1.000000       1.000000     6.000000   \n",
       "\n",
       "        is_weekend        month       season  \n",
       "count  5660.000000  5660.000000  5660.000000  \n",
       "mean      0.344170     6.384629     2.362367  \n",
       "std       0.475139     3.307893     1.105320  \n",
       "min       0.000000     1.000000     1.000000  \n",
       "25%       0.000000     4.000000     1.000000  \n",
       "50%       0.000000     6.000000     2.000000  \n",
       "75%       1.000000     9.000000     3.000000  \n",
       "max       1.000000    12.000000     4.000000  \n",
       "\n",
       "[8 rows x 64 columns]"
      ]
     },
     "execution_count": 5,
     "metadata": {},
     "output_type": "execute_result"
    }
   ],
   "source": [
    "X.describe()"
   ]
  },
  {
   "cell_type": "markdown",
   "metadata": {
    "id": "cMc_Vhuavfjz"
   },
   "source": [
    "## 任务阐述\n",
    "运用各样的机器学习模型完成一个回归任务，回归的响应变量(y)是游记的阅读数，解释变量(X)是经过预处理剔除一些不合理的变量之后的55列变量(其中one-hot分出了较多的特征)。然后通过交叉验证选出模型一个较优的参数组合，并利用测试集上在该模型上做出评估。"
   ]
  },
  {
   "cell_type": "markdown",
   "metadata": {
    "id": "z5oLl2Vk0tkU"
   },
   "source": [
    "## 数据的预处理\n"
   ]
  },
  {
   "cell_type": "code",
   "execution_count": 6,
   "metadata": {
    "colab": {
     "base_uri": "https://localhost:8080/"
    },
    "executionInfo": {
     "elapsed": 437,
     "status": "ok",
     "timestamp": 1637474554907,
     "user": {
      "displayName": "李澳",
      "photoUrl": "https://lh3.googleusercontent.com/a-/AOh14Ghb4M3X_z9UbhnPRzfOTeWlobmo3Ja-j1Kefwel=s64",
      "userId": "11809085526774048180"
     },
     "user_tz": -480
    },
    "id": "CcDEnTzGzH33",
    "outputId": "7a461f2f-caf5-4253-8e77-4dce5ade3106"
   },
   "outputs": [
    {
     "name": "stdout",
     "output_type": "stream",
     "text": [
      "(5612, 64)\n",
      "(3400, 64)\n",
      "(3400, 56)\n"
     ]
    },
    {
     "data": {
      "text/plain": [
       "((2720, 55), (2720,))"
      ]
     },
     "execution_count": 6,
     "metadata": {},
     "output_type": "execute_result"
    }
   ],
   "source": [
    "from sklearn.pipeline import Pipeline\n",
    "from sklearn.preprocessing import StandardScaler\n",
    "from sklearn.model_selection import train_test_split\n",
    "#删除含有缺失值的列\n",
    "X1=X.dropna(subset=[\"commentCT\"])\n",
    "print(X1.shape)\n",
    "#删除缺失旅行费用的行\n",
    "X1=X1[X1[\"per_cost\"]>0]\n",
    "print(X1.shape)\n",
    "#对连续性变量标准化\n",
    "X1_num=X1.loc[:,[\"read_num_transformed\",\"commentCT\",\"per_cost\",\"photo_num\"]]\n",
    "#转换流水线，可以在其中添加一些其他自定义的属性\n",
    "num_pipeline=Pipeline([\n",
    "  (\"std_scaler\",StandardScaler())\n",
    "])\n",
    "X1_num_tr=num_pipeline.fit_transform(X1_num)\n",
    "X1_cat=X1.iloc[:,[9,11,12,13,14,15,16,17,18,19,20,21,22,23,24,25,26,27,28,29,30,31,32,33,34,35,36,37,38,39,40,41,42,43,44,45,46,47,48,49,50,51,52,53,54,55,56,57,58,61,62,63]]\n",
    "X1=np.concatenate((X1_num_tr,X1_cat),axis=1)\n",
    "print(X1.shape)\n",
    "#划分训练集与测试集并提取响应变量\n",
    "train,test=train_test_split(X1,test_size=0.2,random_state=42)\n",
    "X_train,Y_train=train[:,1:],train[:,0]\n",
    "X_test,Y_test=test[:,1:],test[:,0]\n",
    "X_train.shape,Y_train.shape"
   ]
  },
  {
   "cell_type": "markdown",
   "metadata": {
    "id": "PPw8jjspJwkz"
   },
   "source": [
    "## 线性回归模型"
   ]
  },
  {
   "cell_type": "code",
   "execution_count": 7,
   "metadata": {
    "colab": {
     "base_uri": "https://localhost:8080/"
    },
    "executionInfo": {
     "elapsed": 509,
     "status": "ok",
     "timestamp": 1637474564599,
     "user": {
      "displayName": "李澳",
      "photoUrl": "https://lh3.googleusercontent.com/a-/AOh14Ghb4M3X_z9UbhnPRzfOTeWlobmo3Ja-j1Kefwel=s64",
      "userId": "11809085526774048180"
     },
     "user_tz": -480
    },
    "id": "FviTDKqzxdhX",
    "outputId": "1483e682-5252-496f-c5aa-9f11a4be96e6"
   },
   "outputs": [
    {
     "name": "stdout",
     "output_type": "stream",
     "text": [
      "Scores: [0.25109843 0.25781904 0.2164913  0.53369369 5.96736199 0.41379088\n",
      " 0.41199672 1.17932502 0.34054591 0.6677109 ]\n",
      "Mean: 1.023983389310874\n",
      "Std: 1.6696942508791026\n",
      "线性回归系数： [ 0.37035728 -0.04096311  0.02166951 -0.00253004  0.15524862  0.01992369\n",
      " -0.06285978 -0.0417431   0.02439487  0.01399748 -0.10158769 -0.18174551\n",
      "  0.11395983  0.1048839  -0.09682308 -0.02120386  0.76802781  0.11297122\n",
      "  0.20610488  0.0725282  -0.07746272 -0.07195299  0.20425235 -0.07388594\n",
      "  0.29843141  0.16325064 -0.14824294  0.02597974  0.29996253  0.17058458\n",
      " -0.05606974  0.15065372  0.06385853 -0.17318435  0.04341959  0.07676893\n",
      "  0.05510258 -0.1778524  -0.07345604  0.06640445 -0.14329311 -0.10908182\n",
      " -0.17646315 -0.05809245 -0.18632358 -0.07050626 -0.00632004 -0.02590808\n",
      " -0.11732606  0.06365359 -0.10093532 -0.12989358  0.03065013  0.00229547\n",
      "  0.00138797]\n",
      "在测试集上的MSE： 0.48244595190075473\n"
     ]
    }
   ],
   "source": [
    "from sklearn.linear_model import LinearRegression\n",
    "from sklearn.model_selection import cross_val_score\n",
    "from sklearn.metrics import mean_squared_error\n",
    "\n",
    "lin_reg=LinearRegression()\n",
    "lin_scores=cross_val_score(lin_reg,X_train,Y_train,scoring=\"neg_mean_squared_error\",cv=10)\n",
    "def display_scores(scores):\n",
    "  print(\"Scores:\",scores)\n",
    "  print(\"Mean:\",scores.mean())\n",
    "  print(\"Std:\",scores.std())\n",
    "\n",
    "display_scores(-lin_scores)\n",
    "\n",
    "lin_reg.fit(X_train,Y_train)\n",
    "#打印系数\n",
    "print(\"线性回归系数：\",lin_reg.coef_)\n",
    "lin_predictions=lin_reg.predict(X_test)\n",
    "lin_mse=mean_squared_error(Y_test,lin_predictions)\n",
    "print(\"在测试集上的MSE：\",lin_mse)\n"
   ]
  },
  {
   "cell_type": "markdown",
   "metadata": {
    "id": "ubVfE9jzOUMj"
   },
   "source": [
    "## 岭回归($\\ell_2$正则化)"
   ]
  },
  {
   "cell_type": "code",
   "execution_count": 8,
   "metadata": {
    "colab": {
     "base_uri": "https://localhost:8080/"
    },
    "executionInfo": {
     "elapsed": 1501,
     "status": "ok",
     "timestamp": 1637474589826,
     "user": {
      "displayName": "李澳",
      "photoUrl": "https://lh3.googleusercontent.com/a-/AOh14Ghb4M3X_z9UbhnPRzfOTeWlobmo3Ja-j1Kefwel=s64",
      "userId": "11809085526774048180"
     },
     "user_tz": -480
    },
    "id": "M2y8fn0T06YD",
    "outputId": "b69239af-4c67-4df3-fa03-fd6dd7e1677c"
   },
   "outputs": [
    {
     "data": {
      "text/plain": [
       "GridSearchCV(cv=10, estimator=Ridge(solver='cholesky'),\n",
       "             param_grid=[{'alpha': [0, 0.1, 0.2, 0.3, 0.4, 0.5, 0.6, 0.7, 0.8,\n",
       "                                    0.9, 1.0, 2, 5, 10]}],\n",
       "             return_train_score=True, scoring='neg_mean_squared_error')"
      ]
     },
     "execution_count": 8,
     "metadata": {},
     "output_type": "execute_result"
    }
   ],
   "source": [
    "#通过交叉验证来找到最佳的参数alpha\n",
    "from sklearn.model_selection import GridSearchCV\n",
    "from sklearn.linear_model import Ridge\n",
    "ridge_reg=Ridge(solver=\"cholesky\")\n",
    "ridge_param_grid=[{\"alpha\":[0,0.1,0.2,0.3,0.4,0.5,0.6,0.7,0.8,0.9,1.0,2,5,10]}]\n",
    "ridge_grid_search=GridSearchCV(ridge_reg,ridge_param_grid,cv=10,\n",
    "              scoring=\"neg_mean_squared_error\",return_train_score=True)\n",
    "ridge_grid_search.fit(X_train,Y_train)\n"
   ]
  },
  {
   "cell_type": "code",
   "execution_count": 9,
   "metadata": {
    "colab": {
     "base_uri": "https://localhost:8080/"
    },
    "executionInfo": {
     "elapsed": 558,
     "status": "ok",
     "timestamp": 1637474592340,
     "user": {
      "displayName": "李澳",
      "photoUrl": "https://lh3.googleusercontent.com/a-/AOh14Ghb4M3X_z9UbhnPRzfOTeWlobmo3Ja-j1Kefwel=s64",
      "userId": "11809085526774048180"
     },
     "user_tz": -480
    },
    "id": "-sRcvYlyVK7v",
    "outputId": "4575bbb2-c123-4f97-e109-4bcc1a806411"
   },
   "outputs": [
    {
     "data": {
      "text/plain": [
       "{'alpha': 10}"
      ]
     },
     "execution_count": 9,
     "metadata": {},
     "output_type": "execute_result"
    }
   ],
   "source": [
    "ridge_grid_search.best_params_"
   ]
  },
  {
   "cell_type": "code",
   "execution_count": 10,
   "metadata": {
    "colab": {
     "base_uri": "https://localhost:8080/"
    },
    "executionInfo": {
     "elapsed": 5,
     "status": "ok",
     "timestamp": 1637474594172,
     "user": {
      "displayName": "李澳",
      "photoUrl": "https://lh3.googleusercontent.com/a-/AOh14Ghb4M3X_z9UbhnPRzfOTeWlobmo3Ja-j1Kefwel=s64",
      "userId": "11809085526774048180"
     },
     "user_tz": -480
    },
    "id": "COJNqC8FYO_f",
    "outputId": "537ec5e3-7641-4b41-b670-d1010df1fd63"
   },
   "outputs": [
    {
     "name": "stdout",
     "output_type": "stream",
     "text": [
      "(1.0239833893108738, {'alpha': 0})\n",
      "(1.023886208804005, {'alpha': 0.1})\n",
      "(1.023793558970127, {'alpha': 0.2})\n",
      "(1.0237048638672834, {'alpha': 0.3})\n",
      "(1.0236196545224008, {'alpha': 0.4})\n",
      "(1.023537544585054, {'alpha': 0.5})\n",
      "(1.0234582123678284, {'alpha': 0.6})\n",
      "(1.023381387403359, {'alpha': 0.7})\n",
      "(1.023306840246842, {'alpha': 0.8})\n",
      "(1.0232343746448875, {'alpha': 0.9})\n",
      "(1.023163821453059, {'alpha': 1.0})\n",
      "(1.0225384127483388, {'alpha': 2})\n",
      "(1.021143896479916, {'alpha': 5})\n",
      "(1.0195697735475355, {'alpha': 10})\n"
     ]
    }
   ],
   "source": [
    "ridge_curves=ridge_grid_search.cv_results_\n",
    "for mean_score,params in zip(ridge_curves[\"mean_test_score\"],ridge_curves[\"params\"]):\n",
    "  print((-mean_score,params))"
   ]
  },
  {
   "cell_type": "code",
   "execution_count": 11,
   "metadata": {
    "colab": {
     "base_uri": "https://localhost:8080/"
    },
    "executionInfo": {
     "elapsed": 435,
     "status": "ok",
     "timestamp": 1637474596459,
     "user": {
      "displayName": "李澳",
      "photoUrl": "https://lh3.googleusercontent.com/a-/AOh14Ghb4M3X_z9UbhnPRzfOTeWlobmo3Ja-j1Kefwel=s64",
      "userId": "11809085526774048180"
     },
     "user_tz": -480
    },
    "id": "IPLo25X6aGQ3",
    "outputId": "1f87ec7c-a664-407d-f82b-2b551a8c3dc5"
   },
   "outputs": [
    {
     "data": {
      "text/plain": [
       "0.4746437930124764"
      ]
     },
     "execution_count": 11,
     "metadata": {},
     "output_type": "execute_result"
    }
   ],
   "source": [
    "#使用测试集评估最终模型\n",
    "ridge_final_model=ridge_grid_search.best_estimator_\n",
    "ridge_predictions=ridge_final_model.predict(X_test)\n",
    "mean_squared_error(Y_test,ridge_predictions)"
   ]
  },
  {
   "cell_type": "markdown",
   "metadata": {
    "id": "RCwirEOocsVP"
   },
   "source": [
    "## Lasso回归($\\ell_1$正则化)\n"
   ]
  },
  {
   "cell_type": "code",
   "execution_count": 19,
   "metadata": {
    "colab": {
     "base_uri": "https://localhost:8080/"
    },
    "executionInfo": {
     "elapsed": 3417,
     "status": "ok",
     "timestamp": 1637465403794,
     "user": {
      "displayName": "李澳",
      "photoUrl": "https://lh3.googleusercontent.com/a-/AOh14Ghb4M3X_z9UbhnPRzfOTeWlobmo3Ja-j1Kefwel=s64",
      "userId": "11809085526774048180"
     },
     "user_tz": -480
    },
    "id": "Y__VZQP_cpkU",
    "outputId": "23b20a27-f564-4a51-d785-18e899bc8293"
   },
   "outputs": [
    {
     "data": {
      "text/plain": [
       "GridSearchCV(cv=10, estimator=Lasso(),\n",
       "             param_grid=[{'alpha': [0, 0.1, 0.2, 0.3, 0.4, 0.5, 0.6, 0.7, 0.8,\n",
       "                                    0.9, 1.0, 2, 5, 10]}],\n",
       "             return_train_score=True, scoring='neg_mean_squared_error')"
      ]
     },
     "execution_count": 19,
     "metadata": {},
     "output_type": "execute_result"
    }
   ],
   "source": [
    "#通过交叉验证来找到最佳的参数alpha\n",
    "from sklearn.linear_model import Lasso\n",
    "lasso_reg=Lasso()\n",
    "lasso_param_grid=[{\"alpha\":[0,0.1,0.2,0.3,0.4,0.5,0.6,0.7,0.8,0.9,1.0,2,5,10]}]\n",
    "lasso_grid_search=GridSearchCV(lasso_reg,lasso_param_grid,cv=10,\n",
    "              scoring=\"neg_mean_squared_error\",return_train_score=True)\n",
    "lasso_grid_search.fit(X_train,Y_train)"
   ]
  },
  {
   "cell_type": "code",
   "execution_count": 20,
   "metadata": {
    "colab": {
     "base_uri": "https://localhost:8080/"
    },
    "executionInfo": {
     "elapsed": 511,
     "status": "ok",
     "timestamp": 1637465406562,
     "user": {
      "displayName": "李澳",
      "photoUrl": "https://lh3.googleusercontent.com/a-/AOh14Ghb4M3X_z9UbhnPRzfOTeWlobmo3Ja-j1Kefwel=s64",
      "userId": "11809085526774048180"
     },
     "user_tz": -480
    },
    "id": "odVY6S87dgyQ",
    "outputId": "29c1ba77-e6ed-4c7a-a881-bde788f81a80"
   },
   "outputs": [
    {
     "data": {
      "text/plain": [
       "{'alpha': 0}"
      ]
     },
     "execution_count": 20,
     "metadata": {},
     "output_type": "execute_result"
    }
   ],
   "source": [
    "lasso_grid_search.best_params_"
   ]
  },
  {
   "cell_type": "code",
   "execution_count": 21,
   "metadata": {
    "colab": {
     "base_uri": "https://localhost:8080/"
    },
    "executionInfo": {
     "elapsed": 5,
     "status": "ok",
     "timestamp": 1637465408420,
     "user": {
      "displayName": "李澳",
      "photoUrl": "https://lh3.googleusercontent.com/a-/AOh14Ghb4M3X_z9UbhnPRzfOTeWlobmo3Ja-j1Kefwel=s64",
      "userId": "11809085526774048180"
     },
     "user_tz": -480
    },
    "id": "gKvbPrHCdtD3",
    "outputId": "6773032a-30f1-4585-cd33-7fba76ddf96a"
   },
   "outputs": [
    {
     "name": "stdout",
     "output_type": "stream",
     "text": [
      "(1.023983389310874, {'alpha': 0})\n",
      "(1.0468574545993388, {'alpha': 0.1})\n",
      "(1.0800420650410936, {'alpha': 0.2})\n",
      "(1.0970603755643333, {'alpha': 0.3})\n",
      "(1.1152153213503737, {'alpha': 0.4})\n",
      "(1.1152153213503737, {'alpha': 0.5})\n",
      "(1.1152153213503737, {'alpha': 0.6})\n",
      "(1.1152153213503737, {'alpha': 0.7})\n",
      "(1.1152153213503737, {'alpha': 0.8})\n",
      "(1.1152153213503737, {'alpha': 0.9})\n",
      "(1.1152153213503737, {'alpha': 1.0})\n",
      "(1.1152153213503737, {'alpha': 2})\n",
      "(1.1152153213503737, {'alpha': 5})\n",
      "(1.1152153213503737, {'alpha': 10})\n"
     ]
    }
   ],
   "source": [
    "lasso_curves=lasso_grid_search.cv_results_\n",
    "for mean_score,params in zip(lasso_curves[\"mean_test_score\"],lasso_curves[\"params\"]):\n",
    "  print((-mean_score,params))"
   ]
  },
  {
   "cell_type": "code",
   "execution_count": 22,
   "metadata": {
    "colab": {
     "base_uri": "https://localhost:8080/"
    },
    "executionInfo": {
     "elapsed": 5,
     "status": "ok",
     "timestamp": 1637465411833,
     "user": {
      "displayName": "李澳",
      "photoUrl": "https://lh3.googleusercontent.com/a-/AOh14Ghb4M3X_z9UbhnPRzfOTeWlobmo3Ja-j1Kefwel=s64",
      "userId": "11809085526774048180"
     },
     "user_tz": -480
    },
    "id": "EnyrNAQod7Dv",
    "outputId": "ca5a15c9-0d2c-4b7b-837e-92b0d5c88617"
   },
   "outputs": [
    {
     "data": {
      "text/plain": [
       "0.48244595190075457"
      ]
     },
     "execution_count": 22,
     "metadata": {},
     "output_type": "execute_result"
    }
   ],
   "source": [
    "#使用测试集评估最终模型\n",
    "lasso_final_model=lasso_grid_search.best_estimator_\n",
    "lasso_predictions=lasso_final_model.predict(X_test)\n",
    "mean_squared_error(Y_test,lasso_predictions)"
   ]
  },
  {
   "cell_type": "markdown",
   "metadata": {
    "id": "ujSehH8Cefrk"
   },
   "source": [
    "## 弹性网络(Elastic net)"
   ]
  },
  {
   "cell_type": "code",
   "execution_count": 23,
   "metadata": {
    "colab": {
     "base_uri": "https://localhost:8080/"
    },
    "executionInfo": {
     "elapsed": 1009,
     "status": "ok",
     "timestamp": 1637465415954,
     "user": {
      "displayName": "李澳",
      "photoUrl": "https://lh3.googleusercontent.com/a-/AOh14Ghb4M3X_z9UbhnPRzfOTeWlobmo3Ja-j1Kefwel=s64",
      "userId": "11809085526774048180"
     },
     "user_tz": -480
    },
    "id": "XivHEi7VePZc",
    "outputId": "4b168668-2846-4351-cffc-be9006f7c8ad"
   },
   "outputs": [
    {
     "data": {
      "text/plain": [
       "GridSearchCV(cv=10, estimator=ElasticNet(),\n",
       "             param_grid=[{'alpha': [0.1, 0.5, 1.0, 5, 10],\n",
       "                          'l1_ratio': [0.3, 0.5, 0.7]}],\n",
       "             return_train_score=True, scoring='neg_mean_squared_error')"
      ]
     },
     "execution_count": 23,
     "metadata": {},
     "output_type": "execute_result"
    }
   ],
   "source": [
    "#通过交叉验证来找到最佳的参数alpha、l1_ratio\n",
    "from sklearn.linear_model import ElasticNet\n",
    "elasticnet_reg=ElasticNet()\n",
    "elasticnet_param_grid=[{\"alpha\":[0.1,0.5,1.0,5,10],\"l1_ratio\":[0.3,0.5,0.7]}]\n",
    "elasticnet_grid_search=GridSearchCV(elasticnet_reg,elasticnet_param_grid,cv=10,\n",
    "              scoring=\"neg_mean_squared_error\",return_train_score=True)\n",
    "elasticnet_grid_search.fit(X_train,Y_train)"
   ]
  },
  {
   "cell_type": "code",
   "execution_count": 24,
   "metadata": {
    "colab": {
     "base_uri": "https://localhost:8080/"
    },
    "executionInfo": {
     "elapsed": 6,
     "status": "ok",
     "timestamp": 1637465418459,
     "user": {
      "displayName": "李澳",
      "photoUrl": "https://lh3.googleusercontent.com/a-/AOh14Ghb4M3X_z9UbhnPRzfOTeWlobmo3Ja-j1Kefwel=s64",
      "userId": "11809085526774048180"
     },
     "user_tz": -480
    },
    "id": "0LLu_a18fvcp",
    "outputId": "7784d9d5-695f-4957-855f-e53b9a45f9ec"
   },
   "outputs": [
    {
     "data": {
      "text/plain": [
       "{'alpha': 0.1, 'l1_ratio': 0.3}"
      ]
     },
     "execution_count": 24,
     "metadata": {},
     "output_type": "execute_result"
    }
   ],
   "source": [
    "elasticnet_grid_search.best_params_"
   ]
  },
  {
   "cell_type": "code",
   "execution_count": 25,
   "metadata": {
    "colab": {
     "base_uri": "https://localhost:8080/"
    },
    "executionInfo": {
     "elapsed": 473,
     "status": "ok",
     "timestamp": 1637465421199,
     "user": {
      "displayName": "李澳",
      "photoUrl": "https://lh3.googleusercontent.com/a-/AOh14Ghb4M3X_z9UbhnPRzfOTeWlobmo3Ja-j1Kefwel=s64",
      "userId": "11809085526774048180"
     },
     "user_tz": -480
    },
    "id": "-sVtkHLugEP0",
    "outputId": "614654cd-33c2-4c7f-80c1-060235af17c3"
   },
   "outputs": [
    {
     "name": "stdout",
     "output_type": "stream",
     "text": [
      "(1.0343734031922058, {'alpha': 0.1, 'l1_ratio': 0.3})\n",
      "(1.0369092125486696, {'alpha': 0.1, 'l1_ratio': 0.5})\n",
      "(1.0403405729410975, {'alpha': 0.1, 'l1_ratio': 0.7})\n",
      "(1.0687355647561314, {'alpha': 0.5, 'l1_ratio': 0.3})\n",
      "(1.0905204585968544, {'alpha': 0.5, 'l1_ratio': 0.5})\n",
      "(1.1118486618196175, {'alpha': 0.5, 'l1_ratio': 0.7})\n",
      "(1.1039891150941998, {'alpha': 1.0, 'l1_ratio': 0.3})\n",
      "(1.1152153213503737, {'alpha': 1.0, 'l1_ratio': 0.5})\n",
      "(1.1152153213503737, {'alpha': 1.0, 'l1_ratio': 0.7})\n",
      "(1.1152153213503737, {'alpha': 5, 'l1_ratio': 0.3})\n",
      "(1.1152153213503737, {'alpha': 5, 'l1_ratio': 0.5})\n",
      "(1.1152153213503737, {'alpha': 5, 'l1_ratio': 0.7})\n",
      "(1.1152153213503737, {'alpha': 10, 'l1_ratio': 0.3})\n",
      "(1.1152153213503737, {'alpha': 10, 'l1_ratio': 0.5})\n",
      "(1.1152153213503737, {'alpha': 10, 'l1_ratio': 0.7})\n"
     ]
    }
   ],
   "source": [
    "elasticnet_curves=elasticnet_grid_search.cv_results_\n",
    "for mean_score,params in zip(elasticnet_curves[\"mean_test_score\"],elasticnet_curves[\"params\"]):\n",
    "  print((-mean_score,params))"
   ]
  },
  {
   "cell_type": "code",
   "execution_count": 26,
   "metadata": {
    "colab": {
     "base_uri": "https://localhost:8080/"
    },
    "executionInfo": {
     "elapsed": 3,
     "status": "ok",
     "timestamp": 1637465423306,
     "user": {
      "displayName": "李澳",
      "photoUrl": "https://lh3.googleusercontent.com/a-/AOh14Ghb4M3X_z9UbhnPRzfOTeWlobmo3Ja-j1Kefwel=s64",
      "userId": "11809085526774048180"
     },
     "user_tz": -480
    },
    "id": "gAvnEASigS-O",
    "outputId": "dcd260b5-5fdd-41d6-ae41-d5e33eed301d"
   },
   "outputs": [
    {
     "data": {
      "text/plain": [
       "0.4615967469864971"
      ]
     },
     "execution_count": 26,
     "metadata": {},
     "output_type": "execute_result"
    }
   ],
   "source": [
    "#使用测试集评估最终模型\n",
    "elasticnet_final_model=elasticnet_grid_search.best_estimator_\n",
    "elasticnet_predictions=elasticnet_final_model.predict(X_test)\n",
    "mean_squared_error(Y_test,elasticnet_predictions)"
   ]
  },
  {
   "cell_type": "markdown",
   "metadata": {
    "id": "WrRgMT2QhiN4"
   },
   "source": [
    "## 主成分回归(PCR)"
   ]
  },
  {
   "cell_type": "code",
   "execution_count": 27,
   "metadata": {
    "colab": {
     "base_uri": "https://localhost:8080/"
    },
    "executionInfo": {
     "elapsed": 1191,
     "status": "ok",
     "timestamp": 1637465428811,
     "user": {
      "displayName": "李澳",
      "photoUrl": "https://lh3.googleusercontent.com/a-/AOh14Ghb4M3X_z9UbhnPRzfOTeWlobmo3Ja-j1Kefwel=s64",
      "userId": "11809085526774048180"
     },
     "user_tz": -480
    },
    "id": "47TorIlShFLo",
    "outputId": "20681895-4388-44b0-8bbd-81b0139a0fb3"
   },
   "outputs": [
    {
     "name": "stdout",
     "output_type": "stream",
     "text": [
      "Scores: [0.23217517 0.27911936 0.16634009 0.532837   6.14583616 0.39799634\n",
      " 0.40785471 1.14962695 0.31052078 0.71971874]\n",
      "Mean: 1.0342025302775846\n",
      "Std: 1.7256812411573164\n",
      "在测试集上的MSE： 0.46654918739856743\n"
     ]
    }
   ],
   "source": [
    "#先使用主成分分析将维度降到方差为95%的维度\n",
    "from sklearn.decomposition import PCA\n",
    "pca = PCA(n_components=0.95)\n",
    "pca.fit(X_train)\n",
    "X_pca=pca.transform(X_train) #返回降维后的数据\n",
    "#使用降维后的数据来进行线性回归\n",
    "pca_reg=LinearRegression()\n",
    "#交叉验证\n",
    "pca_scores=cross_val_score(pca_reg,X_pca,Y_train,scoring=\"neg_mean_squared_error\",cv=10)\n",
    "\n",
    "display_scores(-pca_scores)\n",
    "\n",
    "pca_reg.fit(X_pca,Y_train)\n",
    "X_testpca=pca.transform(X_test)\n",
    "pca_predictions=pca_reg.predict(X_testpca)\n",
    "pca_mse=mean_squared_error(Y_test,pca_predictions)\n",
    "print(\"在测试集上的MSE：\",pca_mse)\n"
   ]
  },
  {
   "cell_type": "markdown",
   "metadata": {
    "id": "7kAk5uWhuEC_"
   },
   "source": [
    "## 偏最小二乘回归(PLS)"
   ]
  },
  {
   "cell_type": "code",
   "execution_count": 28,
   "metadata": {
    "colab": {
     "base_uri": "https://localhost:8080/"
    },
    "executionInfo": {
     "elapsed": 3507,
     "status": "ok",
     "timestamp": 1637465437313,
     "user": {
      "displayName": "李澳",
      "photoUrl": "https://lh3.googleusercontent.com/a-/AOh14Ghb4M3X_z9UbhnPRzfOTeWlobmo3Ja-j1Kefwel=s64",
      "userId": "11809085526774048180"
     },
     "user_tz": -480
    },
    "id": "jGsJDwgRnJTl",
    "outputId": "237bf560-d760-492c-83f8-183af7dba779"
   },
   "outputs": [
    {
     "data": {
      "text/plain": [
       "GridSearchCV(cv=10, estimator=PLSRegression(),\n",
       "             param_grid=[{'n_components': range(1, 20)}],\n",
       "             return_train_score=True, scoring='neg_mean_squared_error')"
      ]
     },
     "execution_count": 28,
     "metadata": {},
     "output_type": "execute_result"
    }
   ],
   "source": [
    "#通过交叉验证找到最佳的参数\"n_components\"\n",
    "from sklearn.cross_decomposition import PLSRegression\n",
    "\n",
    "pls_reg=PLSRegression()\n",
    "pls_param_grid=[{\"n_components\":range(1,20)}]\n",
    "pls_grid_search=GridSearchCV(pls_reg,pls_param_grid,cv=10,\n",
    "              scoring=\"neg_mean_squared_error\",return_train_score=True)\n",
    "pls_grid_search.fit(X_train,Y_train)\n"
   ]
  },
  {
   "cell_type": "code",
   "execution_count": 29,
   "metadata": {
    "colab": {
     "base_uri": "https://localhost:8080/"
    },
    "executionInfo": {
     "elapsed": 444,
     "status": "ok",
     "timestamp": 1637465440005,
     "user": {
      "displayName": "李澳",
      "photoUrl": "https://lh3.googleusercontent.com/a-/AOh14Ghb4M3X_z9UbhnPRzfOTeWlobmo3Ja-j1Kefwel=s64",
      "userId": "11809085526774048180"
     },
     "user_tz": -480
    },
    "id": "Hp5iAU0DFKwn",
    "outputId": "e41924a3-0e4d-4ac6-eef7-4b26d372a55a"
   },
   "outputs": [
    {
     "data": {
      "text/plain": [
       "{'n_components': 3}"
      ]
     },
     "execution_count": 29,
     "metadata": {},
     "output_type": "execute_result"
    }
   ],
   "source": [
    "pls_grid_search.best_params_"
   ]
  },
  {
   "cell_type": "code",
   "execution_count": 30,
   "metadata": {
    "colab": {
     "base_uri": "https://localhost:8080/"
    },
    "executionInfo": {
     "elapsed": 422,
     "status": "ok",
     "timestamp": 1637465442810,
     "user": {
      "displayName": "李澳",
      "photoUrl": "https://lh3.googleusercontent.com/a-/AOh14Ghb4M3X_z9UbhnPRzfOTeWlobmo3Ja-j1Kefwel=s64",
      "userId": "11809085526774048180"
     },
     "user_tz": -480
    },
    "id": "xiN31IRBHTa0",
    "outputId": "92108297-aa96-44a4-e9fb-a921177037c5"
   },
   "outputs": [
    {
     "name": "stdout",
     "output_type": "stream",
     "text": [
      "(1.034638446385709, {'n_components': 1})\n",
      "(1.0254926073739667, {'n_components': 2})\n",
      "(1.0235352034400749, {'n_components': 3})\n",
      "(1.023668115125383, {'n_components': 4})\n",
      "(1.0240945443163048, {'n_components': 5})\n",
      "(1.0239483479339593, {'n_components': 6})\n",
      "(1.0244641093480689, {'n_components': 7})\n",
      "(1.0242155862493016, {'n_components': 8})\n",
      "(1.0240201998217873, {'n_components': 9})\n",
      "(1.0239836536275273, {'n_components': 10})\n",
      "(1.0239822907589358, {'n_components': 11})\n",
      "(1.0239838446375806, {'n_components': 12})\n",
      "(1.0239827179214918, {'n_components': 13})\n",
      "(1.0239832140538168, {'n_components': 14})\n",
      "(1.0239832978896521, {'n_components': 15})\n",
      "(1.02398336428011, {'n_components': 16})\n",
      "(1.0239833863965688, {'n_components': 17})\n",
      "(1.0239833883739131, {'n_components': 18})\n",
      "(1.0239833891241896, {'n_components': 19})\n"
     ]
    }
   ],
   "source": [
    "#计算每个参数对应的分数\n",
    "pls_curves=pls_grid_search.cv_results_\n",
    "for mean_score,params in zip(pls_curves[\"mean_test_score\"],pls_curves[\"params\"]):\n",
    "  print((-mean_score,params))"
   ]
  },
  {
   "cell_type": "code",
   "execution_count": 31,
   "metadata": {
    "colab": {
     "base_uri": "https://localhost:8080/"
    },
    "executionInfo": {
     "elapsed": 440,
     "status": "ok",
     "timestamp": 1637465446295,
     "user": {
      "displayName": "李澳",
      "photoUrl": "https://lh3.googleusercontent.com/a-/AOh14Ghb4M3X_z9UbhnPRzfOTeWlobmo3Ja-j1Kefwel=s64",
      "userId": "11809085526774048180"
     },
     "user_tz": -480
    },
    "id": "tRd8MJQCHwQ9",
    "outputId": "cfc59d81-cf9e-4494-d916-b42f95c8e5b0"
   },
   "outputs": [
    {
     "data": {
      "text/plain": [
       "0.4815139711582014"
      ]
     },
     "execution_count": 31,
     "metadata": {},
     "output_type": "execute_result"
    }
   ],
   "source": [
    "#使用测试集评估最终模型\n",
    "pls_final_model=pls_grid_search.best_estimator_\n",
    "pls_predictions=pls_final_model.predict(X_test)\n",
    "mean_squared_error(Y_test,pls_predictions)"
   ]
  },
  {
   "cell_type": "markdown",
   "metadata": {
    "id": "EOeZXMJLICD4"
   },
   "source": [
    "## 决策树(Decision Tree)"
   ]
  },
  {
   "cell_type": "code",
   "execution_count": 32,
   "metadata": {
    "colab": {
     "base_uri": "https://localhost:8080/"
    },
    "executionInfo": {
     "elapsed": 2615,
     "status": "ok",
     "timestamp": 1637465452346,
     "user": {
      "displayName": "李澳",
      "photoUrl": "https://lh3.googleusercontent.com/a-/AOh14Ghb4M3X_z9UbhnPRzfOTeWlobmo3Ja-j1Kefwel=s64",
      "userId": "11809085526774048180"
     },
     "user_tz": -480
    },
    "id": "_-MRBm9UIAnq",
    "outputId": "d011b25a-2c80-438c-b5b4-485184bb9778"
   },
   "outputs": [
    {
     "data": {
      "text/plain": [
       "GridSearchCV(cv=10, estimator=DecisionTreeRegressor(),\n",
       "             param_grid=[{'max_depth': [10, 30, 50, 70, 100],\n",
       "                          'min_impurity_decrease': [0.1, 0.2, 0.5],\n",
       "                          'min_samples_leaf': [2, 3, 5, 10]}],\n",
       "             return_train_score=True, scoring='neg_mean_squared_error')"
      ]
     },
     "execution_count": 32,
     "metadata": {},
     "output_type": "execute_result"
    }
   ],
   "source": [
    "#通过交叉验证找到决策树最佳的参数\n",
    "from sklearn.tree import DecisionTreeRegressor\n",
    "\n",
    "tree_reg=DecisionTreeRegressor()\n",
    "tree_param_grid=[{'max_depth':[10,30,50,70,100],'min_samples_leaf':[2,3,5,10],'min_impurity_decrease':[0.1,0.2,0.5]}]\n",
    "tree_grid_search=GridSearchCV(tree_reg,tree_param_grid,cv=10,\n",
    "              scoring=\"neg_mean_squared_error\",return_train_score=True)\n",
    "tree_grid_search.fit(X_train,Y_train)\n"
   ]
  },
  {
   "cell_type": "code",
   "execution_count": 33,
   "metadata": {
    "colab": {
     "base_uri": "https://localhost:8080/"
    },
    "executionInfo": {
     "elapsed": 8,
     "status": "ok",
     "timestamp": 1637465455055,
     "user": {
      "displayName": "李澳",
      "photoUrl": "https://lh3.googleusercontent.com/a-/AOh14Ghb4M3X_z9UbhnPRzfOTeWlobmo3Ja-j1Kefwel=s64",
      "userId": "11809085526774048180"
     },
     "user_tz": -480
    },
    "id": "EZ6v7qacLK4P",
    "outputId": "33e91a50-da84-4582-ea02-9465474063b9"
   },
   "outputs": [
    {
     "data": {
      "text/plain": [
       "{'max_depth': 30, 'min_impurity_decrease': 0.1, 'min_samples_leaf': 2}"
      ]
     },
     "execution_count": 33,
     "metadata": {},
     "output_type": "execute_result"
    }
   ],
   "source": [
    "#最佳分类器\n",
    "tree_grid_search.best_params_"
   ]
  },
  {
   "cell_type": "code",
   "execution_count": 34,
   "metadata": {
    "colab": {
     "base_uri": "https://localhost:8080/"
    },
    "executionInfo": {
     "elapsed": 426,
     "status": "ok",
     "timestamp": 1637465459633,
     "user": {
      "displayName": "李澳",
      "photoUrl": "https://lh3.googleusercontent.com/a-/AOh14Ghb4M3X_z9UbhnPRzfOTeWlobmo3Ja-j1Kefwel=s64",
      "userId": "11809085526774048180"
     },
     "user_tz": -480
    },
    "id": "WMtSxa6qLT1s",
    "outputId": "c7db5758-2eda-43f1-a926-c96c7a7e287e"
   },
   "outputs": [
    {
     "data": {
      "text/plain": [
       "1.1054864277014511"
      ]
     },
     "execution_count": 34,
     "metadata": {},
     "output_type": "execute_result"
    }
   ],
   "source": [
    "#最优分数\n",
    "-tree_grid_search.best_score_"
   ]
  },
  {
   "cell_type": "code",
   "execution_count": 35,
   "metadata": {
    "colab": {
     "base_uri": "https://localhost:8080/"
    },
    "executionInfo": {
     "elapsed": 431,
     "status": "ok",
     "timestamp": 1637465463553,
     "user": {
      "displayName": "李澳",
      "photoUrl": "https://lh3.googleusercontent.com/a-/AOh14Ghb4M3X_z9UbhnPRzfOTeWlobmo3Ja-j1Kefwel=s64",
      "userId": "11809085526774048180"
     },
     "user_tz": -480
    },
    "id": "uRsQ1FuaLshW",
    "outputId": "e3082664-487d-4dad-9f3b-39675117da16"
   },
   "outputs": [
    {
     "data": {
      "text/plain": [
       "1.2359820950830944"
      ]
     },
     "execution_count": 35,
     "metadata": {},
     "output_type": "execute_result"
    }
   ],
   "source": [
    "#使用测试集评估最终模型\n",
    "tree_final_model=tree_grid_search.best_estimator_\n",
    "tree_predictions=tree_final_model.predict(X_test)\n",
    "mean_squared_error(Y_test,tree_predictions)"
   ]
  },
  {
   "cell_type": "code",
   "execution_count": 36,
   "metadata": {
    "colab": {
     "base_uri": "https://localhost:8080/"
    },
    "executionInfo": {
     "elapsed": 926,
     "status": "ok",
     "timestamp": 1637465467649,
     "user": {
      "displayName": "李澳",
      "photoUrl": "https://lh3.googleusercontent.com/a-/AOh14Ghb4M3X_z9UbhnPRzfOTeWlobmo3Ja-j1Kefwel=s64",
      "userId": "11809085526774048180"
     },
     "user_tz": -480
    },
    "id": "Pncz2oK-MGWP",
    "outputId": "32eca515-112a-4f87-f279-51b78cb64b6a"
   },
   "outputs": [
    {
     "data": {
      "text/plain": [
       "0.7314798599524005"
      ]
     },
     "execution_count": 36,
     "metadata": {},
     "output_type": "execute_result"
    }
   ],
   "source": [
    "#在训练集上的最终误差\n",
    "tree_trainpre=tree_final_model.predict(X_train)\n",
    "mean_squared_error(Y_train,tree_trainpre)"
   ]
  },
  {
   "cell_type": "code",
   "execution_count": 37,
   "metadata": {
    "colab": {
     "base_uri": "https://localhost:8080/"
    },
    "executionInfo": {
     "elapsed": 436,
     "status": "ok",
     "timestamp": 1637465656784,
     "user": {
      "displayName": "李澳",
      "photoUrl": "https://lh3.googleusercontent.com/a-/AOh14Ghb4M3X_z9UbhnPRzfOTeWlobmo3Ja-j1Kefwel=s64",
      "userId": "11809085526774048180"
     },
     "user_tz": -480
    },
    "id": "mOhXAHihjDNn",
    "outputId": "703a29a4-4347-45ef-a65d-c8f4d563db6a"
   },
   "outputs": [
    {
     "data": {
      "text/plain": [
       "0.7314798599524005"
      ]
     },
     "execution_count": 37,
     "metadata": {},
     "output_type": "execute_result"
    }
   ],
   "source": [
    "#等价于\n",
    "tree_best_model=DecisionTreeRegressor(max_depth=30,min_impurity_decrease=0.1,min_samples_leaf=2)\n",
    "tree_best_model.fit(X_train,Y_train)\n",
    "tree_trainpre1=tree_best_model.predict(X_train)\n",
    "mean_squared_error(Y_train,tree_trainpre1)"
   ]
  },
  {
   "cell_type": "markdown",
   "metadata": {
    "id": "5SBWUGonM7VG"
   },
   "source": [
    "## 随机森林(Random Forest)\n"
   ]
  },
  {
   "cell_type": "code",
   "execution_count": 38,
   "metadata": {
    "colab": {
     "base_uri": "https://localhost:8080/"
    },
    "executionInfo": {
     "elapsed": 46447,
     "status": "ok",
     "timestamp": 1637465736260,
     "user": {
      "displayName": "李澳",
      "photoUrl": "https://lh3.googleusercontent.com/a-/AOh14Ghb4M3X_z9UbhnPRzfOTeWlobmo3Ja-j1Kefwel=s64",
      "userId": "11809085526774048180"
     },
     "user_tz": -480
    },
    "id": "XCBHiwB7MhzB",
    "outputId": "a22f8c1b-1a96-4058-98b8-d7f30ef24145"
   },
   "outputs": [
    {
     "data": {
      "text/plain": [
       "GridSearchCV(cv=10, estimator=RandomForestRegressor(),\n",
       "             param_grid=[{'max_features': [2, 4, 6, 8, 10],\n",
       "                          'n_estimators': [3, 10, 30, 100]},\n",
       "                         {'bootstrap': [False], 'max_features': [2, 4, 6, 8],\n",
       "                          'n_estimators': [3, 10, 30]}],\n",
       "             return_train_score=True, scoring='neg_mean_squared_error')"
      ]
     },
     "execution_count": 38,
     "metadata": {},
     "output_type": "execute_result"
    }
   ],
   "source": [
    "#交叉验证找最佳的参数\n",
    "from sklearn.ensemble import RandomForestRegressor\n",
    "\n",
    "forest_reg=RandomForestRegressor()\n",
    "forest_param_grid = [\n",
    "    {'n_estimators': [3, 10, 30,100], 'max_features': [2, 4, 6, 8,10]},\n",
    "    {'bootstrap': [False], 'n_estimators': [3, 10,30], 'max_features': [2, 4, 6,8]},\n",
    "  ]\n",
    "forest_grid_search=GridSearchCV(forest_reg,forest_param_grid,cv=10,\n",
    "              scoring=\"neg_mean_squared_error\",return_train_score=True)\n",
    "forest_grid_search.fit(X_train,Y_train)"
   ]
  },
  {
   "cell_type": "code",
   "execution_count": 39,
   "metadata": {
    "colab": {
     "base_uri": "https://localhost:8080/"
    },
    "executionInfo": {
     "elapsed": 476,
     "status": "ok",
     "timestamp": 1637465767783,
     "user": {
      "displayName": "李澳",
      "photoUrl": "https://lh3.googleusercontent.com/a-/AOh14Ghb4M3X_z9UbhnPRzfOTeWlobmo3Ja-j1Kefwel=s64",
      "userId": "11809085526774048180"
     },
     "user_tz": -480
    },
    "id": "x6ktTNawPTTQ",
    "outputId": "fa888321-b3f6-4f17-b0c4-5514e398b328"
   },
   "outputs": [
    {
     "data": {
      "text/plain": [
       "{'max_features': 8, 'n_estimators': 100}"
      ]
     },
     "execution_count": 39,
     "metadata": {},
     "output_type": "execute_result"
    }
   ],
   "source": [
    "#最佳参数\n",
    "forest_grid_search.best_params_"
   ]
  },
  {
   "cell_type": "code",
   "execution_count": 40,
   "metadata": {
    "colab": {
     "base_uri": "https://localhost:8080/"
    },
    "executionInfo": {
     "elapsed": 6,
     "status": "ok",
     "timestamp": 1637465770821,
     "user": {
      "displayName": "李澳",
      "photoUrl": "https://lh3.googleusercontent.com/a-/AOh14Ghb4M3X_z9UbhnPRzfOTeWlobmo3Ja-j1Kefwel=s64",
      "userId": "11809085526774048180"
     },
     "user_tz": -480
    },
    "id": "x9Qio5wNPols",
    "outputId": "0b0ad928-620c-4c86-a4b5-696e5b541d44"
   },
   "outputs": [
    {
     "data": {
      "text/plain": [
       "1.0081347345506644"
      ]
     },
     "execution_count": 40,
     "metadata": {},
     "output_type": "execute_result"
    }
   ],
   "source": [
    "#最优分数\n",
    "-forest_grid_search.best_score_"
   ]
  },
  {
   "cell_type": "code",
   "execution_count": 42,
   "metadata": {
    "colab": {
     "base_uri": "https://localhost:8080/"
    },
    "executionInfo": {
     "elapsed": 453,
     "status": "ok",
     "timestamp": 1637465779939,
     "user": {
      "displayName": "李澳",
      "photoUrl": "https://lh3.googleusercontent.com/a-/AOh14Ghb4M3X_z9UbhnPRzfOTeWlobmo3Ja-j1Kefwel=s64",
      "userId": "11809085526774048180"
     },
     "user_tz": -480
    },
    "id": "SjZCv-E-Pw_e",
    "outputId": "c71a24fd-14aa-413a-eeb3-d7e59f526657"
   },
   "outputs": [
    {
     "data": {
      "text/plain": [
       "0.5213816107872266"
      ]
     },
     "execution_count": 42,
     "metadata": {},
     "output_type": "execute_result"
    }
   ],
   "source": [
    "#使用测试集评估最终模型\n",
    "forest_final_model=forest_grid_search.best_estimator_\n",
    "forest_predictions=forest_final_model.predict(X_test)\n",
    "mean_squared_error(Y_test,forest_predictions)"
   ]
  },
  {
   "cell_type": "code",
   "execution_count": 43,
   "metadata": {
    "colab": {
     "base_uri": "https://localhost:8080/"
    },
    "executionInfo": {
     "elapsed": 454,
     "status": "ok",
     "timestamp": 1637465782184,
     "user": {
      "displayName": "李澳",
      "photoUrl": "https://lh3.googleusercontent.com/a-/AOh14Ghb4M3X_z9UbhnPRzfOTeWlobmo3Ja-j1Kefwel=s64",
      "userId": "11809085526774048180"
     },
     "user_tz": -480
    },
    "id": "2F1YEsHcP8Y3",
    "outputId": "65a84372-2679-4321-929b-5c184d356cb1"
   },
   "outputs": [
    {
     "data": {
      "text/plain": [
       "0.10375247608718352"
      ]
     },
     "execution_count": 43,
     "metadata": {},
     "output_type": "execute_result"
    }
   ],
   "source": [
    "#在训练集上的最终误差\n",
    "forest_trainpre=forest_final_model.predict(X_train)\n",
    "mean_squared_error(Y_train,forest_trainpre)"
   ]
  },
  {
   "cell_type": "markdown",
   "metadata": {
    "id": "O-UJlcT_QXNj"
   },
   "source": [
    "## K近邻法(KNN)"
   ]
  },
  {
   "cell_type": "code",
   "execution_count": 41,
   "metadata": {
    "colab": {
     "base_uri": "https://localhost:8080/"
    },
    "executionInfo": {
     "elapsed": 1614004,
     "status": "ok",
     "timestamp": 1637429475106,
     "user": {
      "displayName": "李澳",
      "photoUrl": "https://lh3.googleusercontent.com/a-/AOh14Ghb4M3X_z9UbhnPRzfOTeWlobmo3Ja-j1Kefwel=s64",
      "userId": "11809085526774048180"
     },
     "user_tz": -480
    },
    "id": "j9mbNpPyQH0V",
    "outputId": "8e302585-da60-4f81-c529-65e7e32a1635"
   },
   "outputs": [
    {
     "data": {
      "text/plain": [
       "GridSearchCV(cv=10, estimator=KNeighborsRegressor(),\n",
       "             param_grid=[{'n_neighbors': [1, 2, 3, 4, 5, 6, 7, 8, 9, 10],\n",
       "                          'weights': ['uniform']},\n",
       "                         {'n_neighbors': [1, 2, 3, 4, 5, 6, 7, 8, 9, 10],\n",
       "                          'p': [1, 2, 3, 4, 5], 'weights': ['distance']}],\n",
       "             return_train_score=True, scoring='neg_mean_squared_error')"
      ]
     },
     "execution_count": 41,
     "metadata": {},
     "output_type": "execute_result"
    }
   ],
   "source": [
    "from sklearn.neighbors import KNeighborsRegressor\n",
    "\n",
    "knn_reg=KNeighborsRegressor()\n",
    "knn_param_grid=[\n",
    "    {\n",
    "        'weights':['uniform'],\n",
    "        'n_neighbors':[i for i in range(1,11)]\n",
    "    },\n",
    "    {\n",
    "        'weights':['distance'],\n",
    "        'n_neighbors':[i for i in range(1,11)],\n",
    "        'p':[i for i in range(1,6)]\n",
    "    }\n",
    "]\n",
    "knn_grid_search=GridSearchCV(knn_reg,knn_param_grid,cv=10,\n",
    "              scoring=\"neg_mean_squared_error\",return_train_score=True)\n",
    "knn_grid_search.fit(X_train,Y_train)"
   ]
  },
  {
   "cell_type": "code",
   "execution_count": 42,
   "metadata": {
    "colab": {
     "base_uri": "https://localhost:8080/"
    },
    "executionInfo": {
     "elapsed": 591,
     "status": "ok",
     "timestamp": 1637429586696,
     "user": {
      "displayName": "李澳",
      "photoUrl": "https://lh3.googleusercontent.com/a-/AOh14Ghb4M3X_z9UbhnPRzfOTeWlobmo3Ja-j1Kefwel=s64",
      "userId": "11809085526774048180"
     },
     "user_tz": -480
    },
    "id": "GzoBe8HGTlPM",
    "outputId": "0891066f-f7a6-48a1-8ea0-2eb186a8877d"
   },
   "outputs": [
    {
     "data": {
      "text/plain": [
       "{'n_neighbors': 9, 'p': 2, 'weights': 'distance'}"
      ]
     },
     "execution_count": 42,
     "metadata": {},
     "output_type": "execute_result"
    }
   ],
   "source": [
    "#最佳参数\n",
    "knn_grid_search.best_params_"
   ]
  },
  {
   "cell_type": "code",
   "execution_count": 43,
   "metadata": {
    "colab": {
     "base_uri": "https://localhost:8080/"
    },
    "executionInfo": {
     "elapsed": 438,
     "status": "ok",
     "timestamp": 1637429601640,
     "user": {
      "displayName": "李澳",
      "photoUrl": "https://lh3.googleusercontent.com/a-/AOh14Ghb4M3X_z9UbhnPRzfOTeWlobmo3Ja-j1Kefwel=s64",
      "userId": "11809085526774048180"
     },
     "user_tz": -480
    },
    "id": "2jPhCYi7aKZo",
    "outputId": "14d59856-f553-49bc-b847-e641318505b9"
   },
   "outputs": [
    {
     "data": {
      "text/plain": [
       "1.0289875107775361"
      ]
     },
     "execution_count": 43,
     "metadata": {},
     "output_type": "execute_result"
    }
   ],
   "source": [
    "#最优分数\n",
    "-knn_grid_search.best_score_"
   ]
  },
  {
   "cell_type": "code",
   "execution_count": 46,
   "metadata": {
    "colab": {
     "base_uri": "https://localhost:8080/"
    },
    "executionInfo": {
     "elapsed": 463,
     "status": "ok",
     "timestamp": 1637429655770,
     "user": {
      "displayName": "李澳",
      "photoUrl": "https://lh3.googleusercontent.com/a-/AOh14Ghb4M3X_z9UbhnPRzfOTeWlobmo3Ja-j1Kefwel=s64",
      "userId": "11809085526774048180"
     },
     "user_tz": -480
    },
    "id": "3cIK9E0CaOGM",
    "outputId": "78711f6d-4696-442a-d6ec-fa33956d122b"
   },
   "outputs": [
    {
     "data": {
      "text/plain": [
       "0.5238109523562293"
      ]
     },
     "execution_count": 46,
     "metadata": {},
     "output_type": "execute_result"
    }
   ],
   "source": [
    "#使用测试集评估最终模型\n",
    "knn_final_model=knn_grid_search.best_estimator_\n",
    "knn_predictions=knn_final_model.predict(X_test)\n",
    "mean_squared_error(Y_test,knn_predictions)"
   ]
  },
  {
   "cell_type": "code",
   "execution_count": 48,
   "metadata": {
    "colab": {
     "base_uri": "https://localhost:8080/"
    },
    "executionInfo": {
     "elapsed": 454,
     "status": "ok",
     "timestamp": 1637429773524,
     "user": {
      "displayName": "李澳",
      "photoUrl": "https://lh3.googleusercontent.com/a-/AOh14Ghb4M3X_z9UbhnPRzfOTeWlobmo3Ja-j1Kefwel=s64",
      "userId": "11809085526774048180"
     },
     "user_tz": -480
    },
    "id": "hpbgwnz7aQOh",
    "outputId": "9605455f-7838-46d2-d460-b5fe9f65161f"
   },
   "outputs": [
    {
     "data": {
      "text/plain": [
       "8.07098774265769e-07"
      ]
     },
     "execution_count": 48,
     "metadata": {},
     "output_type": "execute_result"
    }
   ],
   "source": [
    "#在训练集上的最终误差\n",
    "knn_trainpre=knn_final_model.predict(X_train)\n",
    "mean_squared_error(Y_train,knn_trainpre)"
   ]
  },
  {
   "cell_type": "markdown",
   "metadata": {
    "id": "-Xih79FUbDLD"
   },
   "source": [
    "## Xgboost"
   ]
  },
  {
   "cell_type": "code",
   "execution_count": null,
   "metadata": {
    "id": "aoi-EEApawOy"
   },
   "outputs": [],
   "source": [
    "from xgboost.sklearn import XGBRegressor\n",
    "\n",
    "xgboost_reg=XGBRegressor()\n",
    "xg_grid_params = [{'n_estimators': range(1,101,10),'max_depth':[3,5,7]}]\n",
    "xgboost_grid_search=GridSearchCV(xgboost_reg,xg_grid_params,cv=10,\n",
    "              scoring=\"neg_mean_squared_error\",return_train_score=True)\n",
    "xgboost_grid_search.fit(X_train,Y_train)"
   ]
  },
  {
   "cell_type": "code",
   "execution_count": 48,
   "metadata": {
    "colab": {
     "base_uri": "https://localhost:8080/"
    },
    "executionInfo": {
     "elapsed": 442,
     "status": "ok",
     "timestamp": 1637467219011,
     "user": {
      "displayName": "李澳",
      "photoUrl": "https://lh3.googleusercontent.com/a-/AOh14Ghb4M3X_z9UbhnPRzfOTeWlobmo3Ja-j1Kefwel=s64",
      "userId": "11809085526774048180"
     },
     "user_tz": -480
    },
    "id": "wSpYG3eaoLLR",
    "outputId": "baac51e0-7f47-47a6-a2e0-a649cc087ca0"
   },
   "outputs": [
    {
     "data": {
      "text/plain": [
       "{'max_depth': 3, 'n_estimators': 31}"
      ]
     },
     "execution_count": 48,
     "metadata": {},
     "output_type": "execute_result"
    }
   ],
   "source": [
    "#最佳参数\n",
    "xgboost_grid_search.best_params_"
   ]
  },
  {
   "cell_type": "code",
   "execution_count": 50,
   "metadata": {
    "colab": {
     "base_uri": "https://localhost:8080/"
    },
    "executionInfo": {
     "elapsed": 6,
     "status": "ok",
     "timestamp": 1637467242825,
     "user": {
      "displayName": "李澳",
      "photoUrl": "https://lh3.googleusercontent.com/a-/AOh14Ghb4M3X_z9UbhnPRzfOTeWlobmo3Ja-j1Kefwel=s64",
      "userId": "11809085526774048180"
     },
     "user_tz": -480
    },
    "id": "woG2iIsEpuAy",
    "outputId": "29a3c843-eef2-47f2-d063-d38b5a299335"
   },
   "outputs": [
    {
     "data": {
      "text/plain": [
       "0.9885843936551586"
      ]
     },
     "execution_count": 50,
     "metadata": {},
     "output_type": "execute_result"
    }
   ],
   "source": [
    "#最优分数\n",
    "-xgboost_grid_search.best_score_"
   ]
  },
  {
   "cell_type": "code",
   "execution_count": 51,
   "metadata": {
    "colab": {
     "base_uri": "https://localhost:8080/"
    },
    "executionInfo": {
     "elapsed": 491,
     "status": "ok",
     "timestamp": 1637467286571,
     "user": {
      "displayName": "李澳",
      "photoUrl": "https://lh3.googleusercontent.com/a-/AOh14Ghb4M3X_z9UbhnPRzfOTeWlobmo3Ja-j1Kefwel=s64",
      "userId": "11809085526774048180"
     },
     "user_tz": -480
    },
    "id": "RGIiFwKopy4a",
    "outputId": "ec094309-df27-4759-e250-6fde909a1134"
   },
   "outputs": [
    {
     "data": {
      "text/plain": [
       "0.4658333485041082"
      ]
     },
     "execution_count": 51,
     "metadata": {},
     "output_type": "execute_result"
    }
   ],
   "source": [
    "#使用测试集评估最终模型\n",
    "xgboost_final_model=xgboost_grid_search.best_estimator_\n",
    "xgboost_predictions=xgboost_final_model.predict(X_test)\n",
    "mean_squared_error(Y_test,xgboost_predictions)"
   ]
  },
  {
   "cell_type": "code",
   "execution_count": 52,
   "metadata": {
    "colab": {
     "base_uri": "https://localhost:8080/"
    },
    "executionInfo": {
     "elapsed": 421,
     "status": "ok",
     "timestamp": 1637467312950,
     "user": {
      "displayName": "李澳",
      "photoUrl": "https://lh3.googleusercontent.com/a-/AOh14Ghb4M3X_z9UbhnPRzfOTeWlobmo3Ja-j1Kefwel=s64",
      "userId": "11809085526774048180"
     },
     "user_tz": -480
    },
    "id": "m_zeKECop-gH",
    "outputId": "becabb5a-8a51-474c-dd56-2f415d9bf221"
   },
   "outputs": [
    {
     "data": {
      "text/plain": [
       "0.423871253933815"
      ]
     },
     "execution_count": 52,
     "metadata": {},
     "output_type": "execute_result"
    }
   ],
   "source": [
    "#在训练集上的最终误差\n",
    "xgboost_trainpre=xgboost_final_model.predict(X_train)\n",
    "mean_squared_error(Y_train,xgboost_trainpre)"
   ]
  },
  {
   "cell_type": "markdown",
   "metadata": {
    "id": "ADx4wQOMqJFS"
   },
   "source": [
    "## 支持向量机(SVM)"
   ]
  },
  {
   "cell_type": "code",
   "execution_count": 44,
   "metadata": {
    "colab": {
     "base_uri": "https://localhost:8080/"
    },
    "executionInfo": {
     "elapsed": 614445,
     "status": "ok",
     "timestamp": 1637479590474,
     "user": {
      "displayName": "李澳",
      "photoUrl": "https://lh3.googleusercontent.com/a-/AOh14Ghb4M3X_z9UbhnPRzfOTeWlobmo3Ja-j1Kefwel=s64",
      "userId": "11809085526774048180"
     },
     "user_tz": -480
    },
    "id": "a9ovQH1AqE9D",
    "outputId": "964ed0cf-9215-4677-f4b4-227d11e45214"
   },
   "outputs": [
    {
     "data": {
      "text/plain": [
       "GridSearchCV(cv=3, estimator=SVR(),\n",
       "             param_grid=[{'C': [1, 10, 100], 'kernel': ['linear']},\n",
       "                         {'C': [1], 'degree': [2, 3], 'kernel': ['poly']},\n",
       "                         {'C': [1, 10, 100], 'gamma': [1, 0.1],\n",
       "                          'kernel': ['rbf']}],\n",
       "             return_train_score=True, scoring='neg_mean_squared_error')"
      ]
     },
     "execution_count": 44,
     "metadata": {},
     "output_type": "execute_result"
    }
   ],
   "source": [
    "#网格搜索SVM回归的最佳参数\n",
    "from sklearn.svm import SVR\n",
    "\n",
    "svm_reg=SVR()\n",
    "svm_grid_params = [{'kernel':['linear'], 'C':[1, 10, 100]},\n",
    "    {'kernel':['poly'], 'C':[1], 'degree':[2, 3]}, \n",
    "    {'kernel':['rbf'], 'C':[1,10,100], 'gamma':[1, 0.1]}]\n",
    "\n",
    "svm_grid_search=GridSearchCV(svm_reg,svm_grid_params,cv=3,\n",
    "              scoring=\"neg_mean_squared_error\",return_train_score=True)\n",
    "svm_grid_search.fit(X_train,Y_train)"
   ]
  },
  {
   "cell_type": "code",
   "execution_count": 45,
   "metadata": {
    "colab": {
     "base_uri": "https://localhost:8080/"
    },
    "executionInfo": {
     "elapsed": 488,
     "status": "ok",
     "timestamp": 1637479598302,
     "user": {
      "displayName": "李澳",
      "photoUrl": "https://lh3.googleusercontent.com/a-/AOh14Ghb4M3X_z9UbhnPRzfOTeWlobmo3Ja-j1Kefwel=s64",
      "userId": "11809085526774048180"
     },
     "user_tz": -480
    },
    "id": "FN6xxovUupxC",
    "outputId": "b333444b-f978-4cd6-8423-0271a8f9ded6"
   },
   "outputs": [
    {
     "data": {
      "text/plain": [
       "{'C': 10, 'kernel': 'linear'}"
      ]
     },
     "execution_count": 45,
     "metadata": {},
     "output_type": "execute_result"
    }
   ],
   "source": [
    "#最佳参数\n",
    "svm_grid_search.best_params_"
   ]
  },
  {
   "cell_type": "code",
   "execution_count": 46,
   "metadata": {
    "colab": {
     "base_uri": "https://localhost:8080/"
    },
    "executionInfo": {
     "elapsed": 497,
     "status": "ok",
     "timestamp": 1637479602721,
     "user": {
      "displayName": "李澳",
      "photoUrl": "https://lh3.googleusercontent.com/a-/AOh14Ghb4M3X_z9UbhnPRzfOTeWlobmo3Ja-j1Kefwel=s64",
      "userId": "11809085526774048180"
     },
     "user_tz": -480
    },
    "id": "sE0pmh11uzhR",
    "outputId": "7c7c6329-f3f1-4ec9-e6f6-10931c66bd99"
   },
   "outputs": [
    {
     "data": {
      "text/plain": [
       "1.0364784971933145"
      ]
     },
     "execution_count": 46,
     "metadata": {},
     "output_type": "execute_result"
    }
   ],
   "source": [
    "#最优分数\n",
    "-svm_grid_search.best_score_"
   ]
  },
  {
   "cell_type": "code",
   "execution_count": 47,
   "metadata": {
    "colab": {
     "base_uri": "https://localhost:8080/"
    },
    "executionInfo": {
     "elapsed": 465,
     "status": "ok",
     "timestamp": 1637479606224,
     "user": {
      "displayName": "李澳",
      "photoUrl": "https://lh3.googleusercontent.com/a-/AOh14Ghb4M3X_z9UbhnPRzfOTeWlobmo3Ja-j1Kefwel=s64",
      "userId": "11809085526774048180"
     },
     "user_tz": -480
    },
    "id": "vFd6Q3sVu3ct",
    "outputId": "c0ecb2a9-5d52-451c-a9fb-cdbb1b283e0a"
   },
   "outputs": [
    {
     "data": {
      "text/plain": [
       "0.47172342734281353"
      ]
     },
     "execution_count": 47,
     "metadata": {},
     "output_type": "execute_result"
    }
   ],
   "source": [
    "#使用测试集评估最终模型\n",
    "svm_final_model=svm_grid_search.best_estimator_\n",
    "svm_predictions=svm_final_model.predict(X_test)\n",
    "mean_squared_error(Y_test,svm_predictions)"
   ]
  },
  {
   "cell_type": "code",
   "execution_count": 48,
   "metadata": {
    "colab": {
     "base_uri": "https://localhost:8080/"
    },
    "executionInfo": {
     "elapsed": 1540,
     "status": "ok",
     "timestamp": 1637479612537,
     "user": {
      "displayName": "李澳",
      "photoUrl": "https://lh3.googleusercontent.com/a-/AOh14Ghb4M3X_z9UbhnPRzfOTeWlobmo3Ja-j1Kefwel=s64",
      "userId": "11809085526774048180"
     },
     "user_tz": -480
    },
    "id": "ihvJjln1xCDz",
    "outputId": "a4aab2f2-6e58-42a7-e596-0288bef3dcd7"
   },
   "outputs": [
    {
     "data": {
      "text/plain": [
       "1.0225769667967755"
      ]
     },
     "execution_count": 48,
     "metadata": {},
     "output_type": "execute_result"
    }
   ],
   "source": [
    "#在训练集上的最终误差\n",
    "svm_trainpre=svm_final_model.predict(X_train)\n",
    "mean_squared_error(Y_train,svm_trainpre)"
   ]
  },
  {
   "cell_type": "markdown",
   "metadata": {
    "id": "nJ_0eV9JvOlW"
   },
   "source": [
    "## K-Means\n",
    "* 聚类属于无监督学习的范畴，不适合用k折交叉验证直接选参数。可以通过将聚类作为一个预处理再添加一个回归模型来进行交叉验证选择聚类数。\n",
    "* 也可以通过一些评判标准来选择聚类数"
   ]
  },
  {
   "cell_type": "code",
   "execution_count": 19,
   "metadata": {
    "colab": {
     "base_uri": "https://localhost:8080/",
     "height": 279
    },
    "executionInfo": {
     "elapsed": 33173,
     "status": "ok",
     "timestamp": 1637475245076,
     "user": {
      "displayName": "李澳",
      "photoUrl": "https://lh3.googleusercontent.com/a-/AOh14Ghb4M3X_z9UbhnPRzfOTeWlobmo3Ja-j1Kefwel=s64",
      "userId": "11809085526774048180"
     },
     "user_tz": -480
    },
    "id": "mItJAVTQvNWC",
    "outputId": "6e08a66f-2d29-42f6-89b2-12583ab5d8fe"
   },
   "outputs": [
    {
     "name": "stdout",
     "output_type": "stream",
     "text": [
      "Saving figure inertia_vs_k_plot\n"
     ]
    },
    {
     "data": {
      "image/png": "[encoded data removed]",
      "text/plain": [
       "<Figure size 576x252 with 1 Axes>"
      ]
     },
     "metadata": {
      "needs_background": "light"
     },
     "output_type": "display_data"
    }
   ],
   "source": [
    "from sklearn.cluster import KMeans\n",
    "\n",
    "#将惯性绘制为 𝑘 的函数并分析结果曲线：\n",
    "kmeans_per_k = [KMeans(n_clusters=k, random_state=42).fit(X_train)\n",
    "                for k in range(1, 30)]\n",
    "inertias = [model.inertia_ for model in kmeans_per_k]\n",
    "\n",
    "plt.figure(figsize=(8, 3.5))\n",
    "plt.plot(range(1, 30), inertias, \"bo-\")\n",
    "plt.xlabel(\"$k$\", fontsize=14)\n",
    "plt.ylabel(\"Inertia\", fontsize=14)\n",
    "plt.annotate('Elbow',\n",
    "      xy=(5, inertias[4]),\n",
    "      xytext=(0.4, 0.5),\n",
    "      textcoords='figure fraction',\n",
    "      fontsize=16,\n",
    "      arrowprops=dict(facecolor='black', shrink=0.1)\n",
    ")\n",
    "save_fig(\"inertia_vs_k_plot\")\n",
    "plt.show()"
   ]
  },
  {
   "cell_type": "markdown",
   "metadata": {
    "id": "l3p_awQAJlw1"
   },
   "source": [
    "此时k=5看上去是一个不错的聚类数，使用轮廓分数："
   ]
  },
  {
   "cell_type": "code",
   "execution_count": 25,
   "metadata": {
    "colab": {
     "base_uri": "https://localhost:8080/",
     "height": 243
    },
    "executionInfo": {
     "elapsed": 5601,
     "status": "ok",
     "timestamp": 1637476122470,
     "user": {
      "displayName": "李澳",
      "photoUrl": "https://lh3.googleusercontent.com/a-/AOh14Ghb4M3X_z9UbhnPRzfOTeWlobmo3Ja-j1Kefwel=s64",
      "userId": "11809085526774048180"
     },
     "user_tz": -480
    },
    "id": "nVGr-YcMIYzJ",
    "outputId": "c9d7f9f0-ca33-41ba-c9b7-c8a74dbefba7"
   },
   "outputs": [
    {
     "name": "stdout",
     "output_type": "stream",
     "text": [
      "Saving figure silhouette_score_vs_k_plot\n"
     ]
    },
    {
     "data": {
      "image/png": "[encoded data removed]",
      "text/plain": [
       "<Figure size 576x216 with 1 Axes>"
      ]
     },
     "metadata": {
      "needs_background": "light"
     },
     "output_type": "display_data"
    }
   ],
   "source": [
    "#查看轮廓分数\n",
    "from sklearn.metrics import silhouette_score\n",
    "\n",
    "silhouette_scores = [silhouette_score(X_train, model.labels_)\n",
    "            for model in kmeans_per_k[1:]]\n",
    "\n",
    "plt.figure(figsize=(8, 3))\n",
    "plt.plot(range(2, 30), silhouette_scores, \"bo-\")\n",
    "plt.xlabel(\"$k$\", fontsize=14)\n",
    "plt.ylabel(\"Silhouette score\", fontsize=14)\n",
    "save_fig(\"silhouette_score_vs_k_plot\")\n",
    "plt.show()"
   ]
  },
  {
   "cell_type": "code",
   "execution_count": 24,
   "metadata": {
    "colab": {
     "base_uri": "https://localhost:8080/",
     "height": 675
    },
    "executionInfo": {
     "elapsed": 3758,
     "status": "ok",
     "timestamp": 1637476079214,
     "user": {
      "displayName": "李澳",
      "photoUrl": "https://lh3.googleusercontent.com/a-/AOh14Ghb4M3X_z9UbhnPRzfOTeWlobmo3Ja-j1Kefwel=s64",
      "userId": "11809085526774048180"
     },
     "user_tz": -480
    },
    "id": "MDS1fhLQJz-x",
    "outputId": "c9881434-8c3d-48c8-c6d5-5efef078ee3c"
   },
   "outputs": [
    {
     "name": "stdout",
     "output_type": "stream",
     "text": [
      "Saving figure silhouette_analysis_plot\n"
     ]
    },
    {
     "data": {
      "image/png": "[encoded data removed]",
      "text/plain": [
       "<Figure size 792x648 with 4 Axes>"
      ]
     },
     "metadata": {
      "needs_background": "light"
     },
     "output_type": "display_data"
    }
   ],
   "source": [
    "#绘制每个实例的轮廓系数\n",
    "from sklearn.metrics import silhouette_samples\n",
    "from matplotlib.ticker import FixedLocator, FixedFormatter\n",
    "\n",
    "plt.figure(figsize=(11, 9))\n",
    "\n",
    "for k in (2,3,4, 5):\n",
    "    plt.subplot(2, 2, k - 1)\n",
    "    \n",
    "    y_pred = kmeans_per_k[k - 1].labels_\n",
    "    silhouette_coefficients = silhouette_samples(X_train, y_pred)\n",
    "\n",
    "    padding = len(X_train) // 30\n",
    "    pos = padding\n",
    "    ticks = []\n",
    "    for i in range(k):\n",
    "        coeffs = silhouette_coefficients[y_pred == i]\n",
    "        coeffs.sort()\n",
    "\n",
    "        color = mpl.cm.Spectral(i / k)\n",
    "        plt.fill_betweenx(np.arange(pos, pos + len(coeffs)), 0, coeffs,\n",
    "                          facecolor=color, edgecolor=color, alpha=0.7) #fill_betweenx在两条水平曲线之间着色\n",
    "        ticks.append(pos + len(coeffs) // 2)\n",
    "        pos += len(coeffs) + padding\n",
    "\n",
    "    plt.gca().yaxis.set_major_locator(FixedLocator(ticks)) #当前的图表和子图可以使用plt.gcf()和plt.gca()获得\n",
    "    plt.gca().yaxis.set_major_formatter(FixedFormatter(range(k)))\n",
    "    if k in (2, 4):\n",
    "        plt.ylabel(\"Cluster\")\n",
    "    \n",
    "    if k in (4, 5):\n",
    "        plt.gca().set_xticks([-0.1, 0, 0.2, 0.4, 0.6, 0.8, 1])\n",
    "        plt.xlabel(\"Silhouette Coefficient\")\n",
    "    else:\n",
    "        plt.tick_params(labelbottom=False)\n",
    "\n",
    "    plt.axvline(x=silhouette_scores[k - 2], color=\"red\", linestyle=\"--\") #画红色的虚线\n",
    "    plt.title(\"$k={}$\".format(k), fontsize=16)\n",
    "\n",
    "save_fig(\"silhouette_analysis_plot\")\n",
    "plt.show()"
   ]
  },
  {
   "cell_type": "markdown",
   "metadata": {
    "id": "vT2CpHUwK-TA"
   },
   "source": [
    "## 基于EM算法的聚类：高斯混合模型(GMM)\n"
   ]
  },
  {
   "cell_type": "code",
   "execution_count": 26,
   "metadata": {
    "colab": {
     "base_uri": "https://localhost:8080/"
    },
    "executionInfo": {
     "elapsed": 6129,
     "status": "ok",
     "timestamp": 1637476563553,
     "user": {
      "displayName": "李澳",
      "photoUrl": "https://lh3.googleusercontent.com/a-/AOh14Ghb4M3X_z9UbhnPRzfOTeWlobmo3Ja-j1Kefwel=s64",
      "userId": "11809085526774048180"
     },
     "user_tz": -480
    },
    "id": "e-Lg9Y-3LHGF",
    "outputId": "5bde33c1-aa64-4cbd-833a-96b8a80a9dbe"
   },
   "outputs": [
    {
     "data": {
      "text/plain": [
       "GaussianMixture(n_components=5, n_init=10)"
      ]
     },
     "execution_count": 26,
     "metadata": {},
     "output_type": "execute_result"
    }
   ],
   "source": [
    "from sklearn.mixture import GaussianMixture\n",
    "\n",
    "gm=GaussianMixture(n_components=5,n_init=10)\n",
    "gm.fit(X_train)"
   ]
  },
  {
   "cell_type": "code",
   "execution_count": 31,
   "metadata": {
    "colab": {
     "base_uri": "https://localhost:8080/"
    },
    "executionInfo": {
     "elapsed": 894,
     "status": "ok",
     "timestamp": 1637476647266,
     "user": {
      "displayName": "李澳",
      "photoUrl": "https://lh3.googleusercontent.com/a-/AOh14Ghb4M3X_z9UbhnPRzfOTeWlobmo3Ja-j1Kefwel=s64",
      "userId": "11809085526774048180"
     },
     "user_tz": -480
    },
    "id": "vRHrA_o0NW-6",
    "outputId": "a96fdd00-9085-4e61-f6d6-4e41d82c6baa"
   },
   "outputs": [
    {
     "data": {
      "text/plain": [
       "array([1.20955883e-01, 4.04411765e-03, 3.67647059e-04, 3.74632353e-01,\n",
       "       5.00000000e-01])"
      ]
     },
     "execution_count": 31,
     "metadata": {},
     "output_type": "execute_result"
    }
   ],
   "source": [
    "#一些参数\n",
    "gm.weights_"
   ]
  },
  {
   "cell_type": "code",
   "execution_count": 33,
   "metadata": {
    "colab": {
     "base_uri": "https://localhost:8080/"
    },
    "executionInfo": {
     "elapsed": 5,
     "status": "ok",
     "timestamp": 1637476675163,
     "user": {
      "displayName": "李澳",
      "photoUrl": "https://lh3.googleusercontent.com/a-/AOh14Ghb4M3X_z9UbhnPRzfOTeWlobmo3Ja-j1Kefwel=s64",
      "userId": "11809085526774048180"
     },
     "user_tz": -480
    },
    "id": "5LSHGnCLNs5c",
    "outputId": "08262b1d-bd9c-45bb-f9c4-b9cfe34c5f63"
   },
   "outputs": [
    {
     "data": {
      "text/plain": [
       "(True, 8)"
      ]
     },
     "execution_count": 33,
     "metadata": {},
     "output_type": "execute_result"
    }
   ],
   "source": [
    "gm.converged_,gm.n_iter_"
   ]
  },
  {
   "cell_type": "code",
   "execution_count": 35,
   "metadata": {
    "colab": {
     "base_uri": "https://localhost:8080/"
    },
    "executionInfo": {
     "elapsed": 440,
     "status": "ok",
     "timestamp": 1637476749290,
     "user": {
      "displayName": "李澳",
      "photoUrl": "https://lh3.googleusercontent.com/a-/AOh14Ghb4M3X_z9UbhnPRzfOTeWlobmo3Ja-j1Kefwel=s64",
      "userId": "11809085526774048180"
     },
     "user_tz": -480
    },
    "id": "-XnBUYXPN2vN",
    "outputId": "03e60213-5968-4729-89f4-e313ddd7dcbf"
   },
   "outputs": [
    {
     "data": {
      "text/plain": [
       "(10, 55)"
      ]
     },
     "execution_count": 35,
     "metadata": {},
     "output_type": "execute_result"
    }
   ],
   "source": [
    "#这是一个生成模型，可以从中采样新实例\n",
    "X_new,y_new=gm.sample(10)\n",
    "X_new.shape"
   ]
  },
  {
   "cell_type": "markdown",
   "metadata": {
    "id": "E5qzhZrPOGqf"
   },
   "source": [
    "## 神经网络模型(Neural network)\n",
    "* 搭建一个简单的全连接网络来完成回归任务"
   ]
  },
  {
   "cell_type": "code",
   "execution_count": 39,
   "metadata": {
    "colab": {
     "base_uri": "https://localhost:8080/"
    },
    "executionInfo": {
     "elapsed": 11133,
     "status": "ok",
     "timestamp": 1637478499717,
     "user": {
      "displayName": "李澳",
      "photoUrl": "https://lh3.googleusercontent.com/a-/AOh14Ghb4M3X_z9UbhnPRzfOTeWlobmo3Ja-j1Kefwel=s64",
      "userId": "11809085526774048180"
     },
     "user_tz": -480
    },
    "id": "W22MGoYzOVHm",
    "outputId": "cf2733e9-96a7-4ebb-a898-dfcc50fdd3a1"
   },
   "outputs": [
    {
     "name": "stdout",
     "output_type": "stream",
     "text": [
      "Epoch 1/50\n",
      "64/64 [==============================] - 0s 3ms/step - loss: 1.6174 - val_loss: 0.6997\n",
      "Epoch 2/50\n",
      "64/64 [==============================] - 0s 3ms/step - loss: 1.2969 - val_loss: 0.6412\n",
      "Epoch 3/50\n",
      "64/64 [==============================] - 0s 2ms/step - loss: 1.2370 - val_loss: 0.6181\n",
      "Epoch 4/50\n",
      "64/64 [==============================] - 0s 3ms/step - loss: 1.2139 - val_loss: 0.6094\n",
      "Epoch 5/50\n",
      "64/64 [==============================] - 0s 2ms/step - loss: 1.1857 - val_loss: 0.6059\n",
      "Epoch 6/50\n",
      "64/64 [==============================] - 0s 2ms/step - loss: 1.1686 - val_loss: 0.6000\n",
      "Epoch 7/50\n",
      "64/64 [==============================] - 0s 2ms/step - loss: 1.1570 - val_loss: 0.5969\n",
      "Epoch 8/50\n",
      "64/64 [==============================] - 0s 2ms/step - loss: 1.1427 - val_loss: 0.5954\n",
      "Epoch 9/50\n",
      "64/64 [==============================] - 0s 2ms/step - loss: 1.1314 - val_loss: 0.5987\n",
      "Epoch 10/50\n",
      "64/64 [==============================] - 0s 2ms/step - loss: 1.1436 - val_loss: 0.5915\n",
      "Epoch 11/50\n",
      "64/64 [==============================] - 0s 2ms/step - loss: 1.1313 - val_loss: 0.5998\n",
      "Epoch 12/50\n",
      "64/64 [==============================] - 0s 3ms/step - loss: 1.1084 - val_loss: 0.5929\n",
      "Epoch 13/50\n",
      "64/64 [==============================] - 0s 2ms/step - loss: 1.1116 - val_loss: 0.5941\n",
      "Epoch 14/50\n",
      "64/64 [==============================] - 0s 2ms/step - loss: 1.0982 - val_loss: 0.5961\n",
      "Epoch 15/50\n",
      "64/64 [==============================] - 0s 2ms/step - loss: 1.0890 - val_loss: 0.5963\n",
      "Epoch 16/50\n",
      "64/64 [==============================] - 0s 2ms/step - loss: 1.0814 - val_loss: 0.5983\n",
      "Epoch 17/50\n",
      "64/64 [==============================] - 0s 2ms/step - loss: 1.0788 - val_loss: 0.6035\n",
      "Epoch 18/50\n",
      "64/64 [==============================] - 0s 2ms/step - loss: 1.0742 - val_loss: 0.5990\n",
      "Epoch 19/50\n",
      "64/64 [==============================] - 0s 2ms/step - loss: 1.0682 - val_loss: 0.5986\n",
      "Epoch 20/50\n",
      "64/64 [==============================] - 0s 3ms/step - loss: 1.0647 - val_loss: 0.6010\n",
      "Epoch 21/50\n",
      "64/64 [==============================] - 0s 2ms/step - loss: 1.0615 - val_loss: 0.5995\n",
      "Epoch 22/50\n",
      "64/64 [==============================] - 0s 2ms/step - loss: 1.0593 - val_loss: 0.6000\n",
      "Epoch 23/50\n",
      "64/64 [==============================] - 0s 3ms/step - loss: 1.0561 - val_loss: 0.6051\n",
      "Epoch 24/50\n",
      "64/64 [==============================] - 0s 2ms/step - loss: 1.0536 - val_loss: 0.6031\n",
      "Epoch 25/50\n",
      "64/64 [==============================] - 0s 2ms/step - loss: 1.0474 - val_loss: 0.6044\n",
      "Epoch 26/50\n",
      "64/64 [==============================] - 0s 2ms/step - loss: 1.0426 - val_loss: 0.6035\n",
      "Epoch 27/50\n",
      "64/64 [==============================] - 0s 2ms/step - loss: 1.0416 - val_loss: 0.6497\n",
      "Epoch 28/50\n",
      "64/64 [==============================] - 0s 2ms/step - loss: 1.0390 - val_loss: 0.6125\n",
      "Epoch 29/50\n",
      "64/64 [==============================] - 0s 2ms/step - loss: 1.0356 - val_loss: 0.6083\n",
      "Epoch 30/50\n",
      "64/64 [==============================] - 0s 2ms/step - loss: 1.0338 - val_loss: 0.6103\n",
      "Epoch 31/50\n",
      "64/64 [==============================] - 0s 2ms/step - loss: 1.0345 - val_loss: 0.6091\n",
      "Epoch 32/50\n",
      "64/64 [==============================] - 0s 2ms/step - loss: 1.0271 - val_loss: 0.6066\n",
      "Epoch 33/50\n",
      "64/64 [==============================] - 0s 3ms/step - loss: 1.0207 - val_loss: 0.6017\n",
      "Epoch 34/50\n",
      "64/64 [==============================] - 0s 2ms/step - loss: 1.0204 - val_loss: 0.6018\n",
      "Epoch 35/50\n",
      "64/64 [==============================] - 0s 2ms/step - loss: 1.0180 - val_loss: 0.6091\n",
      "Epoch 36/50\n",
      "64/64 [==============================] - 0s 2ms/step - loss: 1.0127 - val_loss: 0.6070\n",
      "Epoch 37/50\n",
      "64/64 [==============================] - 0s 2ms/step - loss: 1.0201 - val_loss: 0.6068\n",
      "Epoch 38/50\n",
      "64/64 [==============================] - 0s 2ms/step - loss: 1.0122 - val_loss: 0.6101\n",
      "Epoch 39/50\n",
      "64/64 [==============================] - 0s 2ms/step - loss: 1.0156 - val_loss: 0.6150\n",
      "Epoch 40/50\n",
      "64/64 [==============================] - 0s 3ms/step - loss: 1.0059 - val_loss: 0.6046\n",
      "Epoch 41/50\n",
      "64/64 [==============================] - 0s 2ms/step - loss: 1.0043 - val_loss: 0.6103\n",
      "Epoch 42/50\n",
      "64/64 [==============================] - 0s 2ms/step - loss: 0.9983 - val_loss: 0.6106\n",
      "Epoch 43/50\n",
      "64/64 [==============================] - 0s 2ms/step - loss: 0.9952 - val_loss: 0.6045\n",
      "Epoch 44/50\n",
      "64/64 [==============================] - 0s 2ms/step - loss: 0.9972 - val_loss: 0.6024\n",
      "Epoch 45/50\n",
      "64/64 [==============================] - 0s 2ms/step - loss: 0.9931 - val_loss: 0.6063\n",
      "Epoch 46/50\n",
      "64/64 [==============================] - 0s 2ms/step - loss: 0.9955 - val_loss: 0.6063\n",
      "Epoch 47/50\n",
      "64/64 [==============================] - 0s 2ms/step - loss: 0.9900 - val_loss: 0.6076\n",
      "Epoch 48/50\n",
      "64/64 [==============================] - 0s 2ms/step - loss: 0.9879 - val_loss: 0.6075\n",
      "Epoch 49/50\n",
      "64/64 [==============================] - 0s 3ms/step - loss: 0.9822 - val_loss: 0.6076\n",
      "Epoch 50/50\n",
      "64/64 [==============================] - 0s 2ms/step - loss: 0.9806 - val_loss: 0.6057\n",
      "22/22 [==============================] - 0s 1ms/step - loss: 0.5290\n"
     ]
    }
   ],
   "source": [
    "import tensorflow as tf\n",
    "from tensorflow import keras\n",
    "\n",
    "#拆分一个验证集出来\n",
    "X_train_new, X_valid, Y_train_new, y_valid = train_test_split(X_train, Y_train, random_state=42)\n",
    "\n",
    "model = keras.models.Sequential([\n",
    "    keras.layers.Dense(100, activation=\"relu\", input_shape=X_train.shape[1:]),\n",
    "    keras.layers.Dense(30, activation=\"relu\"),\n",
    "    keras.layers.Dense(1)\n",
    "])\n",
    "model.compile(loss=\"mean_squared_error\", optimizer=keras.optimizers.SGD(lr=1e-3))\n",
    "history = model.fit(X_train_new, Y_train_new, epochs=50, validation_data=(X_valid, y_valid))\n",
    "mse_test = model.evaluate(X_test, Y_test)"
   ]
  },
  {
   "cell_type": "code",
   "execution_count": 43,
   "metadata": {
    "colab": {
     "base_uri": "https://localhost:8080/",
     "height": 273
    },
    "executionInfo": {
     "elapsed": 537,
     "status": "ok",
     "timestamp": 1637478727071,
     "user": {
      "displayName": "李澳",
      "photoUrl": "https://lh3.googleusercontent.com/a-/AOh14Ghb4M3X_z9UbhnPRzfOTeWlobmo3Ja-j1Kefwel=s64",
      "userId": "11809085526774048180"
     },
     "user_tz": -480
    },
    "id": "6WVFYuKCUjbj",
    "outputId": "991e3cde-ec84-47d3-ff2e-fe1bfa852361"
   },
   "outputs": [
    {
     "data": {
      "image/png": "[encoded data removed]",
      "text/plain": [
       "<Figure size 432x288 with 1 Axes>"
      ]
     },
     "metadata": {
      "needs_background": "light"
     },
     "output_type": "display_data"
    }
   ],
   "source": [
    "plt.plot(pd.DataFrame(history.history))\n",
    "plt.grid(True)\n",
    "plt.gca().set_ylim(0, 2)\n",
    "plt.show()"
   ]
  },
  {
   "cell_type": "markdown",
   "metadata": {
    "id": "mqrHty581V1n"
   },
   "source": [
    "## 总结\n",
    "* 所用的不同模型来完成这个回归任务都没有取得很好的效果，即没有一种模型的效果显著优于其他模型。\n",
    "\n",
    "### 一些问题\n",
    "* 有些模型比如决策树、随机森林存在明显的过拟合，训练数据不够。\n",
    "* 推测数据中有一些有问题，比如10折交叉验证，不论怎样选随机数种子划分，总是有一叠数据的误差远高于其他叠。\n"
   ]
  }
 ],
 "metadata": {
  "accelerator": "GPU",
  "colab": {
   "authorship_tag": "ABX9TyNKZXjMi+wetIoROcFlOxji",
   "collapsed_sections": [],
   "name": "DMPython.ipynb",
   "provenance": []
  },
  "kernelspec": {
   "display_name": "Python 3",
   "language": "python",
   "name": "python3"
  },
  "language_info": {
   "codemirror_mode": {
    "name": "ipython",
    "version": 3
   },
   "file_extension": ".py",
   "mimetype": "text/x-python",
   "name": "python",
   "nbconvert_exporter": "python",
   "pygments_lexer": "ipython3",
   "version": "3.7.1"
  },
  "toc": {
   "base_numbering": 1,
   "nav_menu": {},
   "number_sections": true,
   "sideBar": true,
   "skip_h1_title": false,
   "title_cell": "Table of Contents",
   "title_sidebar": "Contents",
   "toc_cell": false,
   "toc_position": {},
   "toc_section_display": true,
   "toc_window_display": false
  }
 },
 "nbformat": 4,
 "nbformat_minor": 1
}
